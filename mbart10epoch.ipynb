{
 "cells": [
  {
   "cell_type": "code",
   "execution_count": null,
   "id": "9451ab3f",
   "metadata": {
    "papermill": {
     "duration": 0.01363,
     "end_time": "2023-08-18T06:08:53.712883",
     "exception": false,
     "start_time": "2023-08-18T06:08:53.699253",
     "status": "completed"
    },
    "tags": []
   },
   "outputs": [],
   "source": []
  },
  {
   "cell_type": "code",
   "execution_count": 1,
   "id": "8baac041",
   "metadata": {
    "execution": {
     "iopub.execute_input": "2023-08-18T06:08:53.740511Z",
     "iopub.status.busy": "2023-08-18T06:08:53.740089Z",
     "iopub.status.idle": "2023-08-18T06:09:06.491678Z",
     "shell.execute_reply": "2023-08-18T06:09:06.490392Z"
    },
    "id": "RcUZW2zmaUcd",
    "papermill": {
     "duration": 12.768529,
     "end_time": "2023-08-18T06:09:06.494601",
     "exception": false,
     "start_time": "2023-08-18T06:08:53.726072",
     "status": "completed"
    },
    "tags": []
   },
   "outputs": [
    {
     "name": "stdout",
     "output_type": "stream",
     "text": [
      "Requirement already satisfied: datasets in /opt/conda/lib/python3.10/site-packages (2.1.0)\r\n",
      "Requirement already satisfied: numpy>=1.17 in /opt/conda/lib/python3.10/site-packages (from datasets) (1.23.5)\r\n",
      "Requirement already satisfied: pyarrow>=5.0.0 in /opt/conda/lib/python3.10/site-packages (from datasets) (11.0.0)\r\n",
      "Requirement already satisfied: dill in /opt/conda/lib/python3.10/site-packages (from datasets) (0.3.6)\r\n",
      "Requirement already satisfied: pandas in /opt/conda/lib/python3.10/site-packages (from datasets) (1.5.3)\r\n",
      "Requirement already satisfied: requests>=2.19.0 in /opt/conda/lib/python3.10/site-packages (from datasets) (2.31.0)\r\n",
      "Requirement already satisfied: tqdm>=4.62.1 in /opt/conda/lib/python3.10/site-packages (from datasets) (4.65.0)\r\n",
      "Requirement already satisfied: xxhash in /opt/conda/lib/python3.10/site-packages (from datasets) (3.2.0)\r\n",
      "Requirement already satisfied: multiprocess in /opt/conda/lib/python3.10/site-packages (from datasets) (0.70.14)\r\n",
      "Requirement already satisfied: fsspec[http]>=2021.05.0 in /opt/conda/lib/python3.10/site-packages (from datasets) (2023.6.0)\r\n",
      "Requirement already satisfied: aiohttp in /opt/conda/lib/python3.10/site-packages (from datasets) (3.8.4)\r\n",
      "Requirement already satisfied: huggingface-hub<1.0.0,>=0.1.0 in /opt/conda/lib/python3.10/site-packages (from datasets) (0.16.4)\r\n",
      "Requirement already satisfied: packaging in /opt/conda/lib/python3.10/site-packages (from datasets) (21.3)\r\n",
      "Requirement already satisfied: responses<0.19 in /opt/conda/lib/python3.10/site-packages (from datasets) (0.18.0)\r\n",
      "Requirement already satisfied: attrs>=17.3.0 in /opt/conda/lib/python3.10/site-packages (from aiohttp->datasets) (23.1.0)\r\n",
      "Requirement already satisfied: charset-normalizer<4.0,>=2.0 in /opt/conda/lib/python3.10/site-packages (from aiohttp->datasets) (3.1.0)\r\n",
      "Requirement already satisfied: multidict<7.0,>=4.5 in /opt/conda/lib/python3.10/site-packages (from aiohttp->datasets) (6.0.4)\r\n",
      "Requirement already satisfied: async-timeout<5.0,>=4.0.0a3 in /opt/conda/lib/python3.10/site-packages (from aiohttp->datasets) (4.0.2)\r\n",
      "Requirement already satisfied: yarl<2.0,>=1.0 in /opt/conda/lib/python3.10/site-packages (from aiohttp->datasets) (1.9.2)\r\n",
      "Requirement already satisfied: frozenlist>=1.1.1 in /opt/conda/lib/python3.10/site-packages (from aiohttp->datasets) (1.3.3)\r\n",
      "Requirement already satisfied: aiosignal>=1.1.2 in /opt/conda/lib/python3.10/site-packages (from aiohttp->datasets) (1.3.1)\r\n",
      "Requirement already satisfied: filelock in /opt/conda/lib/python3.10/site-packages (from huggingface-hub<1.0.0,>=0.1.0->datasets) (3.12.2)\r\n",
      "Requirement already satisfied: pyyaml>=5.1 in /opt/conda/lib/python3.10/site-packages (from huggingface-hub<1.0.0,>=0.1.0->datasets) (6.0)\r\n",
      "Requirement already satisfied: typing-extensions>=3.7.4.3 in /opt/conda/lib/python3.10/site-packages (from huggingface-hub<1.0.0,>=0.1.0->datasets) (4.6.3)\r\n",
      "Requirement already satisfied: pyparsing!=3.0.5,>=2.0.2 in /opt/conda/lib/python3.10/site-packages (from packaging->datasets) (3.0.9)\r\n",
      "Requirement already satisfied: idna<4,>=2.5 in /opt/conda/lib/python3.10/site-packages (from requests>=2.19.0->datasets) (3.4)\r\n",
      "Requirement already satisfied: urllib3<3,>=1.21.1 in /opt/conda/lib/python3.10/site-packages (from requests>=2.19.0->datasets) (1.26.15)\r\n",
      "Requirement already satisfied: certifi>=2017.4.17 in /opt/conda/lib/python3.10/site-packages (from requests>=2.19.0->datasets) (2023.5.7)\r\n",
      "Requirement already satisfied: python-dateutil>=2.8.1 in /opt/conda/lib/python3.10/site-packages (from pandas->datasets) (2.8.2)\r\n",
      "Requirement already satisfied: pytz>=2020.1 in /opt/conda/lib/python3.10/site-packages (from pandas->datasets) (2023.3)\r\n",
      "Requirement already satisfied: six>=1.5 in /opt/conda/lib/python3.10/site-packages (from python-dateutil>=2.8.1->pandas->datasets) (1.16.0)\r\n"
     ]
    }
   ],
   "source": [
    "!pip install datasets\n"
   ]
  },
  {
   "cell_type": "code",
   "execution_count": 2,
   "id": "12b21a44",
   "metadata": {
    "execution": {
     "iopub.execute_input": "2023-08-18T06:09:06.542933Z",
     "iopub.status.busy": "2023-08-18T06:09:06.542345Z",
     "iopub.status.idle": "2023-08-18T06:09:18.062800Z",
     "shell.execute_reply": "2023-08-18T06:09:18.061459Z"
    },
    "papermill": {
     "duration": 11.547239,
     "end_time": "2023-08-18T06:09:18.065789",
     "exception": false,
     "start_time": "2023-08-18T06:09:06.518550",
     "status": "completed"
    },
    "tags": []
   },
   "outputs": [
    {
     "name": "stdout",
     "output_type": "stream",
     "text": [
      "Collecting gdown\r\n",
      "  Downloading gdown-4.7.1-py3-none-any.whl (15 kB)\r\n",
      "Requirement already satisfied: filelock in /opt/conda/lib/python3.10/site-packages (from gdown) (3.12.2)\r\n",
      "Requirement already satisfied: requests[socks] in /opt/conda/lib/python3.10/site-packages (from gdown) (2.31.0)\r\n",
      "Requirement already satisfied: six in /opt/conda/lib/python3.10/site-packages (from gdown) (1.16.0)\r\n",
      "Requirement already satisfied: tqdm in /opt/conda/lib/python3.10/site-packages (from gdown) (4.65.0)\r\n",
      "Requirement already satisfied: beautifulsoup4 in /opt/conda/lib/python3.10/site-packages (from gdown) (4.12.2)\r\n",
      "Requirement already satisfied: soupsieve>1.2 in /opt/conda/lib/python3.10/site-packages (from beautifulsoup4->gdown) (2.3.2.post1)\r\n",
      "Requirement already satisfied: charset-normalizer<4,>=2 in /opt/conda/lib/python3.10/site-packages (from requests[socks]->gdown) (3.1.0)\r\n",
      "Requirement already satisfied: idna<4,>=2.5 in /opt/conda/lib/python3.10/site-packages (from requests[socks]->gdown) (3.4)\r\n",
      "Requirement already satisfied: urllib3<3,>=1.21.1 in /opt/conda/lib/python3.10/site-packages (from requests[socks]->gdown) (1.26.15)\r\n",
      "Requirement already satisfied: certifi>=2017.4.17 in /opt/conda/lib/python3.10/site-packages (from requests[socks]->gdown) (2023.5.7)\r\n",
      "Requirement already satisfied: PySocks!=1.5.7,>=1.5.6 in /opt/conda/lib/python3.10/site-packages (from requests[socks]->gdown) (1.7.1)\r\n",
      "Installing collected packages: gdown\r\n",
      "Successfully installed gdown-4.7.1\r\n"
     ]
    }
   ],
   "source": [
    "!pip install gdown"
   ]
  },
  {
   "cell_type": "code",
   "execution_count": 3,
   "id": "d3b14a2d",
   "metadata": {
    "execution": {
     "iopub.execute_input": "2023-08-18T06:09:18.096811Z",
     "iopub.status.busy": "2023-08-18T06:09:18.096488Z",
     "iopub.status.idle": "2023-08-18T06:09:41.923997Z",
     "shell.execute_reply": "2023-08-18T06:09:41.922811Z"
    },
    "papermill": {
     "duration": 23.845593,
     "end_time": "2023-08-18T06:09:41.926344",
     "exception": false,
     "start_time": "2023-08-18T06:09:18.080751",
     "status": "completed"
    },
    "tags": []
   },
   "outputs": [
    {
     "name": "stdout",
     "output_type": "stream",
     "text": [
      "/opt/conda/lib/python3.10/site-packages/gdown/cli.py:126: FutureWarning: Option `--id` was deprecated in version 4.3.1 and will be removed in 5.0. You don't need to pass it anymore to use a file ID.\r\n",
      "  warnings.warn(\r\n",
      "Downloading...\r\n",
      "From (uriginal): https://drive.google.com/uc?id=1L3Co3p-EHMrpsPkGrNeXQXKw99DxJpOM\r\n",
      "From (redirected): https://drive.google.com/uc?id=1L3Co3p-EHMrpsPkGrNeXQXKw99DxJpOM&confirm=t&uuid=02ed9860-b53c-4c10-8b11-63d805fcf0d3\r\n",
      "To: /kaggle/working/finetuned_mbart67k.zip\r\n",
      "100%|███████████████████████████████████████| 2.27G/2.27G [00:21<00:00, 104MB/s]\r\n"
     ]
    }
   ],
   "source": [
    "!gdown --id 1L3Co3p-EHMrpsPkGrNeXQXKw99DxJpOM"
   ]
  },
  {
   "cell_type": "code",
   "execution_count": 4,
   "id": "f40988cc",
   "metadata": {
    "execution": {
     "iopub.execute_input": "2023-08-18T06:09:41.979713Z",
     "iopub.status.busy": "2023-08-18T06:09:41.978778Z",
     "iopub.status.idle": "2023-08-18T06:09:41.983805Z",
     "shell.execute_reply": "2023-08-18T06:09:41.982858Z"
    },
    "papermill": {
     "duration": 0.03237,
     "end_time": "2023-08-18T06:09:41.985987",
     "exception": false,
     "start_time": "2023-08-18T06:09:41.953617",
     "status": "completed"
    },
    "tags": []
   },
   "outputs": [],
   "source": [
    "import os"
   ]
  },
  {
   "cell_type": "code",
   "execution_count": 5,
   "id": "a5db25a1",
   "metadata": {
    "execution": {
     "iopub.execute_input": "2023-08-18T06:09:42.035862Z",
     "iopub.status.busy": "2023-08-18T06:09:42.034961Z",
     "iopub.status.idle": "2023-08-18T06:09:42.049243Z",
     "shell.execute_reply": "2023-08-18T06:09:42.048396Z"
    },
    "papermill": {
     "duration": 0.041511,
     "end_time": "2023-08-18T06:09:42.051369",
     "exception": false,
     "start_time": "2023-08-18T06:09:42.009858",
     "status": "completed"
    },
    "tags": []
   },
   "outputs": [
    {
     "data": {
      "text/plain": [
       "0"
      ]
     },
     "execution_count": 5,
     "metadata": {},
     "output_type": "execute_result"
    }
   ],
   "source": [
    "os.system(f\"rm -rf /kaggle/working/OutputFor67KmBart147meet.csv\")"
   ]
  },
  {
   "cell_type": "code",
   "execution_count": 6,
   "id": "8700e087",
   "metadata": {
    "execution": {
     "iopub.execute_input": "2023-08-18T06:09:42.101188Z",
     "iopub.status.busy": "2023-08-18T06:09:42.100926Z",
     "iopub.status.idle": "2023-08-18T06:10:07.055558Z",
     "shell.execute_reply": "2023-08-18T06:10:07.054594Z"
    },
    "papermill": {
     "duration": 24.981955,
     "end_time": "2023-08-18T06:10:07.057797",
     "exception": false,
     "start_time": "2023-08-18T06:09:42.075842",
     "status": "completed"
    },
    "tags": []
   },
   "outputs": [
    {
     "data": {
      "text/plain": [
       "0"
      ]
     },
     "execution_count": 6,
     "metadata": {},
     "output_type": "execute_result"
    }
   ],
   "source": [
    "import os\n",
    "\n",
    "# Get the current working directory\n",
    "cwd = os.getcwd()\n",
    "\n",
    "# Get the path to the folder to unzip\n",
    "folder_path = \"/kaggle/working/finetuned_mbart67k.zip\"\n",
    "\n",
    "# Create a new directory to unzip the folder into\n",
    "new_folder_path = os.path.join(cwd, \"unzipped_model67k\")\n",
    "\n",
    "# Unzip the folder\n",
    "os.system(f\"unzip -q {folder_path} -d {new_folder_path}\")\n",
    "\n",
    "# Remove the original folder\n",
    "os.system(f\"rm -rf {folder_path}\")"
   ]
  },
  {
   "cell_type": "code",
   "execution_count": 7,
   "id": "5df4cbc4",
   "metadata": {
    "execution": {
     "iopub.execute_input": "2023-08-18T06:10:07.110464Z",
     "iopub.status.busy": "2023-08-18T06:10:07.110141Z",
     "iopub.status.idle": "2023-08-18T06:10:07.954968Z",
     "shell.execute_reply": "2023-08-18T06:10:07.953948Z"
    },
    "id": "nvFquJSPaOB5",
    "papermill": {
     "duration": 0.874073,
     "end_time": "2023-08-18T06:10:07.957532",
     "exception": false,
     "start_time": "2023-08-18T06:10:07.083459",
     "status": "completed"
    },
    "tags": []
   },
   "outputs": [],
   "source": [
    "from datasets import load_dataset,concatenate_datasets,Dataset\n",
    "import matplotlib.pyplot as plt"
   ]
  },
  {
   "cell_type": "code",
   "execution_count": 8,
   "id": "bbc8fdf5",
   "metadata": {
    "execution": {
     "iopub.execute_input": "2023-08-18T06:10:08.010144Z",
     "iopub.status.busy": "2023-08-18T06:10:08.008988Z",
     "iopub.status.idle": "2023-08-18T06:10:08.013747Z",
     "shell.execute_reply": "2023-08-18T06:10:08.012900Z"
    },
    "id": "6RTRrLZ2agGQ",
    "papermill": {
     "duration": 0.03285,
     "end_time": "2023-08-18T06:10:08.015764",
     "exception": false,
     "start_time": "2023-08-18T06:10:07.982914",
     "status": "completed"
    },
    "tags": []
   },
   "outputs": [],
   "source": [
    "#dataset = load_dataset(\"csebuetnlp/xlsum\", \"urdu\")\n",
    "#print(f\"Features: {dataset['train'].column_names}\")"
   ]
  },
  {
   "cell_type": "code",
   "execution_count": 9,
   "id": "08824d4e",
   "metadata": {
    "execution": {
     "iopub.execute_input": "2023-08-18T06:10:08.066446Z",
     "iopub.status.busy": "2023-08-18T06:10:08.065567Z",
     "iopub.status.idle": "2023-08-18T06:10:12.301251Z",
     "shell.execute_reply": "2023-08-18T06:10:12.300234Z"
    },
    "id": "XH-G-8XYy_j3",
    "outputId": "ef5b9ebb-5574-4543-9637-576b58e8a3d0",
    "papermill": {
     "duration": 4.263755,
     "end_time": "2023-08-18T06:10:12.303935",
     "exception": false,
     "start_time": "2023-08-18T06:10:08.040180",
     "status": "completed"
    },
    "tags": []
   },
   "outputs": [],
   "source": [
    "import pandas as pd\n",
    "import torch"
   ]
  },
  {
   "cell_type": "code",
   "execution_count": 10,
   "id": "531d4b11",
   "metadata": {
    "execution": {
     "iopub.execute_input": "2023-08-18T06:10:12.355416Z",
     "iopub.status.busy": "2023-08-18T06:10:12.354876Z",
     "iopub.status.idle": "2023-08-18T06:10:12.468007Z",
     "shell.execute_reply": "2023-08-18T06:10:12.467084Z"
    },
    "id": "cX1UZ8Iq5vA-",
    "papermill": {
     "duration": 0.140884,
     "end_time": "2023-08-18T06:10:12.470538",
     "exception": false,
     "start_time": "2023-08-18T06:10:12.329654",
     "status": "completed"
    },
    "tags": []
   },
   "outputs": [
    {
     "data": {
      "text/plain": [
       "(50, 2)"
      ]
     },
     "execution_count": 10,
     "metadata": {},
     "output_type": "execute_result"
    }
   ],
   "source": [
    "dataset_file1 = '/kaggle/input/60meetings/urdu_train.csv'\n",
    "dataset1 = pd.read_csv(dataset_file1)\n",
    "dataset1.shape"
   ]
  },
  {
   "cell_type": "code",
   "execution_count": 11,
   "id": "fd3071ff",
   "metadata": {
    "execution": {
     "iopub.execute_input": "2023-08-18T06:10:12.525890Z",
     "iopub.status.busy": "2023-08-18T06:10:12.524479Z",
     "iopub.status.idle": "2023-08-18T06:10:12.558967Z",
     "shell.execute_reply": "2023-08-18T06:10:12.557882Z"
    },
    "papermill": {
     "duration": 0.063424,
     "end_time": "2023-08-18T06:10:12.561195",
     "exception": false,
     "start_time": "2023-08-18T06:10:12.497771",
     "status": "completed"
    },
    "tags": []
   },
   "outputs": [
    {
     "data": {
      "text/plain": [
       "(10, 2)"
      ]
     },
     "execution_count": 11,
     "metadata": {},
     "output_type": "execute_result"
    }
   ],
   "source": [
    "dataset_file2 = '/kaggle/input/60meetings/urdu_val.csv'\n",
    "dataset2 = pd.read_csv(dataset_file2)\n",
    "dataset2.shape"
   ]
  },
  {
   "cell_type": "code",
   "execution_count": 12,
   "id": "b45054f8",
   "metadata": {
    "execution": {
     "iopub.execute_input": "2023-08-18T06:10:12.613778Z",
     "iopub.status.busy": "2023-08-18T06:10:12.613477Z",
     "iopub.status.idle": "2023-08-18T06:10:12.619146Z",
     "shell.execute_reply": "2023-08-18T06:10:12.618106Z"
    },
    "papermill": {
     "duration": 0.034249,
     "end_time": "2023-08-18T06:10:12.621476",
     "exception": false,
     "start_time": "2023-08-18T06:10:12.587227",
     "status": "completed"
    },
    "tags": []
   },
   "outputs": [],
   "source": [
    "# dataset1=dataset1[10000:20000]\n",
    "# dataset2=dataset2[1000:2000]"
   ]
  },
  {
   "cell_type": "code",
   "execution_count": null,
   "id": "47a637e9",
   "metadata": {
    "papermill": {
     "duration": 0.027271,
     "end_time": "2023-08-18T06:10:12.674263",
     "exception": false,
     "start_time": "2023-08-18T06:10:12.646992",
     "status": "completed"
    },
    "tags": []
   },
   "outputs": [],
   "source": []
  },
  {
   "cell_type": "code",
   "execution_count": 13,
   "id": "8eb87f32",
   "metadata": {
    "execution": {
     "iopub.execute_input": "2023-08-18T06:10:12.731763Z",
     "iopub.status.busy": "2023-08-18T06:10:12.731405Z",
     "iopub.status.idle": "2023-08-18T06:10:12.788578Z",
     "shell.execute_reply": "2023-08-18T06:10:12.787585Z"
    },
    "papermill": {
     "duration": 0.08807,
     "end_time": "2023-08-18T06:10:12.790681",
     "exception": false,
     "start_time": "2023-08-18T06:10:12.702611",
     "status": "completed"
    },
    "tags": []
   },
   "outputs": [
    {
     "data": {
      "text/plain": [
       "Dataset({\n",
       "    features: ['Question', 'Answer'],\n",
       "    num_rows: 50\n",
       "})"
      ]
     },
     "execution_count": 13,
     "metadata": {},
     "output_type": "execute_result"
    }
   ],
   "source": [
    "train_dataset = pd.DataFrame()\n",
    "train_dataset['Question'] =dataset1['text']\n",
    "train_dataset['Answer'] =dataset1['summary']\n",
    "train_dataset = Dataset.from_pandas(train_dataset)\n",
    "train_dataset"
   ]
  },
  {
   "cell_type": "code",
   "execution_count": 14,
   "id": "0ffd2088",
   "metadata": {
    "execution": {
     "iopub.execute_input": "2023-08-18T06:10:12.846807Z",
     "iopub.status.busy": "2023-08-18T06:10:12.845974Z",
     "iopub.status.idle": "2023-08-18T06:10:12.863857Z",
     "shell.execute_reply": "2023-08-18T06:10:12.862151Z"
    },
    "papermill": {
     "duration": 0.048465,
     "end_time": "2023-08-18T06:10:12.865890",
     "exception": false,
     "start_time": "2023-08-18T06:10:12.817425",
     "status": "completed"
    },
    "tags": []
   },
   "outputs": [
    {
     "data": {
      "text/plain": [
       "Dataset({\n",
       "    features: ['Question', 'Answer'],\n",
       "    num_rows: 10\n",
       "})"
      ]
     },
     "execution_count": 14,
     "metadata": {},
     "output_type": "execute_result"
    }
   ],
   "source": [
    "val_dataset = pd.DataFrame()\n",
    "\n",
    "val_dataset['Question'] =dataset2['text']\n",
    "val_dataset['Answer'] =dataset2['summary']\n",
    "val_dataset = Dataset.from_pandas(val_dataset)\n",
    "val_dataset"
   ]
  },
  {
   "cell_type": "code",
   "execution_count": 15,
   "id": "99149d52",
   "metadata": {
    "execution": {
     "iopub.execute_input": "2023-08-18T06:10:12.918084Z",
     "iopub.status.busy": "2023-08-18T06:10:12.917806Z",
     "iopub.status.idle": "2023-08-18T06:10:25.389869Z",
     "shell.execute_reply": "2023-08-18T06:10:25.388561Z"
    },
    "id": "J9vW5HkWbCFG",
    "papermill": {
     "duration": 12.501315,
     "end_time": "2023-08-18T06:10:25.392794",
     "exception": true,
     "start_time": "2023-08-18T06:10:12.891479",
     "status": "failed"
    },
    "tags": []
   },
   "outputs": [
    {
     "name": "stderr",
     "output_type": "stream",
     "text": [
      "/opt/conda/lib/python3.10/site-packages/scipy/__init__.py:146: UserWarning: A NumPy version >=1.16.5 and <1.23.0 is required for this version of SciPy (detected version 1.23.5\n",
      "  warnings.warn(f\"A NumPy version >={np_minversion} and <{np_maxversion}\"\n",
      "/opt/conda/lib/python3.10/site-packages/tensorflow_io/python/ops/__init__.py:98: UserWarning: unable to load libtensorflow_io_plugins.so: unable to open file: libtensorflow_io_plugins.so, from paths: ['/opt/conda/lib/python3.10/site-packages/tensorflow_io/python/ops/libtensorflow_io_plugins.so']\n",
      "caused by: ['/opt/conda/lib/python3.10/site-packages/tensorflow_io/python/ops/libtensorflow_io_plugins.so: undefined symbol: _ZN3tsl6StatusC1EN10tensorflow5error4CodeESt17basic_string_viewIcSt11char_traitsIcEENS_14SourceLocationE']\n",
      "  warnings.warn(f\"unable to load libtensorflow_io_plugins.so: {e}\")\n",
      "/opt/conda/lib/python3.10/site-packages/tensorflow_io/python/ops/__init__.py:104: UserWarning: file system plugins are not loaded: unable to open file: libtensorflow_io.so, from paths: ['/opt/conda/lib/python3.10/site-packages/tensorflow_io/python/ops/libtensorflow_io.so']\n",
      "caused by: ['/opt/conda/lib/python3.10/site-packages/tensorflow_io/python/ops/libtensorflow_io.so: undefined symbol: _ZTVN10tensorflow13GcsFileSystemE']\n",
      "  warnings.warn(f\"file system plugins are not loaded: {e}\")\n"
     ]
    },
    {
     "data": {
      "text/html": [
       "<pre style=\"white-space:pre;overflow-x:auto;line-height:normal;font-family:Menlo,'DejaVu Sans Mono',consolas,'Courier New',monospace\"><span style=\"color: #800000; text-decoration-color: #800000\">╭─────────────────────────────── </span><span style=\"color: #800000; text-decoration-color: #800000; font-weight: bold\">Traceback </span><span style=\"color: #bf7f7f; text-decoration-color: #bf7f7f; font-weight: bold\">(most recent call last)</span><span style=\"color: #800000; text-decoration-color: #800000\"> ────────────────────────────────╮</span>\n",
       "<span style=\"color: #800000; text-decoration-color: #800000\">│</span> in <span style=\"color: #00ff00; text-decoration-color: #00ff00\">&lt;module&gt;</span>:<span style=\"color: #0000ff; text-decoration-color: #0000ff\">4</span>                                                                                    <span style=\"color: #800000; text-decoration-color: #800000\">│</span>\n",
       "<span style=\"color: #800000; text-decoration-color: #800000\">│</span>                                                                                                  <span style=\"color: #800000; text-decoration-color: #800000\">│</span>\n",
       "<span style=\"color: #800000; text-decoration-color: #800000\">│</span>   <span style=\"color: #7f7f7f; text-decoration-color: #7f7f7f\">1 </span><span style=\"color: #0000ff; text-decoration-color: #0000ff\">from</span> <span style=\"color: #00ffff; text-decoration-color: #00ffff; text-decoration: underline\">transformers</span> <span style=\"color: #0000ff; text-decoration-color: #0000ff\">import</span> AutoModelForSeq2SeqLM, AutoTokenizer,MBartForConditionalGenerat     <span style=\"color: #800000; text-decoration-color: #800000\">│</span>\n",
       "<span style=\"color: #800000; text-decoration-color: #800000\">│</span>   <span style=\"color: #7f7f7f; text-decoration-color: #7f7f7f\">2 </span>                                                                                             <span style=\"color: #800000; text-decoration-color: #800000\">│</span>\n",
       "<span style=\"color: #800000; text-decoration-color: #800000\">│</span>   <span style=\"color: #7f7f7f; text-decoration-color: #7f7f7f\">3 </span>model_ckpt = <span style=\"color: #808000; text-decoration-color: #808000\">\"/kaggle/working/mBartLarge67k50News147meet\"</span>                                    <span style=\"color: #800000; text-decoration-color: #800000\">│</span>\n",
       "<span style=\"color: #800000; text-decoration-color: #800000\">│</span> <span style=\"color: #800000; text-decoration-color: #800000\">❱ </span>4 tokenizer = AutoTokenizer.from_pretrained(model_ckpt)                                        <span style=\"color: #800000; text-decoration-color: #800000\">│</span>\n",
       "<span style=\"color: #800000; text-decoration-color: #800000\">│</span>   <span style=\"color: #7f7f7f; text-decoration-color: #7f7f7f\">5 </span>model = MBartForConditionalGeneration.from_pretrained(<span style=\"color: #808000; text-decoration-color: #808000\">'/kaggle/working/mBartLarge67k50Ne</span>     <span style=\"color: #800000; text-decoration-color: #800000\">│</span>\n",
       "<span style=\"color: #800000; text-decoration-color: #800000\">│</span>   <span style=\"color: #7f7f7f; text-decoration-color: #7f7f7f\">6 </span>                                                                                             <span style=\"color: #800000; text-decoration-color: #800000\">│</span>\n",
       "<span style=\"color: #800000; text-decoration-color: #800000\">│</span>                                                                                                  <span style=\"color: #800000; text-decoration-color: #800000\">│</span>\n",
       "<span style=\"color: #800000; text-decoration-color: #800000\">│</span> <span style=\"color: #bfbf7f; text-decoration-color: #bfbf7f\">/opt/conda/lib/python3.10/site-packages/transformers/models/auto/</span><span style=\"color: #808000; text-decoration-color: #808000; font-weight: bold\">tokenization_auto.py</span>:<span style=\"color: #0000ff; text-decoration-color: #0000ff\">643</span> in     <span style=\"color: #800000; text-decoration-color: #800000\">│</span>\n",
       "<span style=\"color: #800000; text-decoration-color: #800000\">│</span> <span style=\"color: #00ff00; text-decoration-color: #00ff00\">from_pretrained</span>                                                                                  <span style=\"color: #800000; text-decoration-color: #800000\">│</span>\n",
       "<span style=\"color: #800000; text-decoration-color: #800000\">│</span>                                                                                                  <span style=\"color: #800000; text-decoration-color: #800000\">│</span>\n",
       "<span style=\"color: #800000; text-decoration-color: #800000\">│</span>   <span style=\"color: #7f7f7f; text-decoration-color: #7f7f7f\">640 </span><span style=\"color: #7f7f7f; text-decoration-color: #7f7f7f\">│   │   │   </span><span style=\"color: #0000ff; text-decoration-color: #0000ff\">return</span> tokenizer_class.from_pretrained(pretrained_model_name_or_path, *input   <span style=\"color: #800000; text-decoration-color: #800000\">│</span>\n",
       "<span style=\"color: #800000; text-decoration-color: #800000\">│</span>   <span style=\"color: #7f7f7f; text-decoration-color: #7f7f7f\">641 </span><span style=\"color: #7f7f7f; text-decoration-color: #7f7f7f\">│   │   </span>                                                                                   <span style=\"color: #800000; text-decoration-color: #800000\">│</span>\n",
       "<span style=\"color: #800000; text-decoration-color: #800000\">│</span>   <span style=\"color: #7f7f7f; text-decoration-color: #7f7f7f\">642 </span><span style=\"color: #7f7f7f; text-decoration-color: #7f7f7f\">│   │   </span><span style=\"color: #7f7f7f; text-decoration-color: #7f7f7f\"># Next, let's try to use the tokenizer_config file to get the tokenizer class.</span>     <span style=\"color: #800000; text-decoration-color: #800000\">│</span>\n",
       "<span style=\"color: #800000; text-decoration-color: #800000\">│</span> <span style=\"color: #800000; text-decoration-color: #800000\">❱ </span>643 <span style=\"color: #7f7f7f; text-decoration-color: #7f7f7f\">│   │   </span>tokenizer_config = get_tokenizer_config(pretrained_model_name_or_path, **kwargs)   <span style=\"color: #800000; text-decoration-color: #800000\">│</span>\n",
       "<span style=\"color: #800000; text-decoration-color: #800000\">│</span>   <span style=\"color: #7f7f7f; text-decoration-color: #7f7f7f\">644 </span><span style=\"color: #7f7f7f; text-decoration-color: #7f7f7f\">│   │   </span><span style=\"color: #0000ff; text-decoration-color: #0000ff\">if</span> <span style=\"color: #808000; text-decoration-color: #808000\">\"_commit_hash\"</span> <span style=\"color: #ff00ff; text-decoration-color: #ff00ff\">in</span> tokenizer_config:                                             <span style=\"color: #800000; text-decoration-color: #800000\">│</span>\n",
       "<span style=\"color: #800000; text-decoration-color: #800000\">│</span>   <span style=\"color: #7f7f7f; text-decoration-color: #7f7f7f\">645 </span><span style=\"color: #7f7f7f; text-decoration-color: #7f7f7f\">│   │   │   </span>kwargs[<span style=\"color: #808000; text-decoration-color: #808000\">\"_commit_hash\"</span>] = tokenizer_config[<span style=\"color: #808000; text-decoration-color: #808000\">\"_commit_hash\"</span>]                      <span style=\"color: #800000; text-decoration-color: #800000\">│</span>\n",
       "<span style=\"color: #800000; text-decoration-color: #800000\">│</span>   <span style=\"color: #7f7f7f; text-decoration-color: #7f7f7f\">646 </span><span style=\"color: #7f7f7f; text-decoration-color: #7f7f7f\">│   │   </span>config_tokenizer_class = tokenizer_config.get(<span style=\"color: #808000; text-decoration-color: #808000\">\"tokenizer_class\"</span>)                   <span style=\"color: #800000; text-decoration-color: #800000\">│</span>\n",
       "<span style=\"color: #800000; text-decoration-color: #800000\">│</span>                                                                                                  <span style=\"color: #800000; text-decoration-color: #800000\">│</span>\n",
       "<span style=\"color: #800000; text-decoration-color: #800000\">│</span> <span style=\"color: #bfbf7f; text-decoration-color: #bfbf7f\">/opt/conda/lib/python3.10/site-packages/transformers/models/auto/</span><span style=\"color: #808000; text-decoration-color: #808000; font-weight: bold\">tokenization_auto.py</span>:<span style=\"color: #0000ff; text-decoration-color: #0000ff\">487</span> in     <span style=\"color: #800000; text-decoration-color: #800000\">│</span>\n",
       "<span style=\"color: #800000; text-decoration-color: #800000\">│</span> <span style=\"color: #00ff00; text-decoration-color: #00ff00\">get_tokenizer_config</span>                                                                             <span style=\"color: #800000; text-decoration-color: #800000\">│</span>\n",
       "<span style=\"color: #800000; text-decoration-color: #800000\">│</span>                                                                                                  <span style=\"color: #800000; text-decoration-color: #800000\">│</span>\n",
       "<span style=\"color: #800000; text-decoration-color: #800000\">│</span>   <span style=\"color: #7f7f7f; text-decoration-color: #7f7f7f\">484 </span><span style=\"color: #bfbf7f; text-decoration-color: #bfbf7f\">│   </span><span style=\"color: #808000; text-decoration-color: #808000\">tokenizer_config = get_tokenizer_config(\"tokenizer-test\")</span>                              <span style=\"color: #800000; text-decoration-color: #800000\">│</span>\n",
       "<span style=\"color: #800000; text-decoration-color: #800000\">│</span>   <span style=\"color: #7f7f7f; text-decoration-color: #7f7f7f\">485 </span><span style=\"color: #bfbf7f; text-decoration-color: #bfbf7f\">│   </span><span style=\"color: #808000; text-decoration-color: #808000\">```\"\"\"</span>                                                                                 <span style=\"color: #800000; text-decoration-color: #800000\">│</span>\n",
       "<span style=\"color: #800000; text-decoration-color: #800000\">│</span>   <span style=\"color: #7f7f7f; text-decoration-color: #7f7f7f\">486 </span><span style=\"color: #7f7f7f; text-decoration-color: #7f7f7f\">│   </span>commit_hash = kwargs.get(<span style=\"color: #808000; text-decoration-color: #808000\">\"_commit_hash\"</span>, <span style=\"color: #0000ff; text-decoration-color: #0000ff\">None</span>)                                         <span style=\"color: #800000; text-decoration-color: #800000\">│</span>\n",
       "<span style=\"color: #800000; text-decoration-color: #800000\">│</span> <span style=\"color: #800000; text-decoration-color: #800000\">❱ </span>487 <span style=\"color: #7f7f7f; text-decoration-color: #7f7f7f\">│   </span>resolved_config_file = cached_file(                                                    <span style=\"color: #800000; text-decoration-color: #800000\">│</span>\n",
       "<span style=\"color: #800000; text-decoration-color: #800000\">│</span>   <span style=\"color: #7f7f7f; text-decoration-color: #7f7f7f\">488 </span><span style=\"color: #7f7f7f; text-decoration-color: #7f7f7f\">│   │   </span>pretrained_model_name_or_path,                                                     <span style=\"color: #800000; text-decoration-color: #800000\">│</span>\n",
       "<span style=\"color: #800000; text-decoration-color: #800000\">│</span>   <span style=\"color: #7f7f7f; text-decoration-color: #7f7f7f\">489 </span><span style=\"color: #7f7f7f; text-decoration-color: #7f7f7f\">│   │   </span>TOKENIZER_CONFIG_FILE,                                                             <span style=\"color: #800000; text-decoration-color: #800000\">│</span>\n",
       "<span style=\"color: #800000; text-decoration-color: #800000\">│</span>   <span style=\"color: #7f7f7f; text-decoration-color: #7f7f7f\">490 </span><span style=\"color: #7f7f7f; text-decoration-color: #7f7f7f\">│   │   </span>cache_dir=cache_dir,                                                               <span style=\"color: #800000; text-decoration-color: #800000\">│</span>\n",
       "<span style=\"color: #800000; text-decoration-color: #800000\">│</span>                                                                                                  <span style=\"color: #800000; text-decoration-color: #800000\">│</span>\n",
       "<span style=\"color: #800000; text-decoration-color: #800000\">│</span> <span style=\"color: #bfbf7f; text-decoration-color: #bfbf7f\">/opt/conda/lib/python3.10/site-packages/transformers/utils/</span><span style=\"color: #808000; text-decoration-color: #808000; font-weight: bold\">hub.py</span>:<span style=\"color: #0000ff; text-decoration-color: #0000ff\">417</span> in <span style=\"color: #00ff00; text-decoration-color: #00ff00\">cached_file</span>             <span style=\"color: #800000; text-decoration-color: #800000\">│</span>\n",
       "<span style=\"color: #800000; text-decoration-color: #800000\">│</span>                                                                                                  <span style=\"color: #800000; text-decoration-color: #800000\">│</span>\n",
       "<span style=\"color: #800000; text-decoration-color: #800000\">│</span>   <span style=\"color: #7f7f7f; text-decoration-color: #7f7f7f\"> 414 </span><span style=\"color: #7f7f7f; text-decoration-color: #7f7f7f\">│   </span>user_agent = http_user_agent(user_agent)                                              <span style=\"color: #800000; text-decoration-color: #800000\">│</span>\n",
       "<span style=\"color: #800000; text-decoration-color: #800000\">│</span>   <span style=\"color: #7f7f7f; text-decoration-color: #7f7f7f\"> 415 </span><span style=\"color: #7f7f7f; text-decoration-color: #7f7f7f\">│   </span><span style=\"color: #0000ff; text-decoration-color: #0000ff\">try</span>:                                                                                  <span style=\"color: #800000; text-decoration-color: #800000\">│</span>\n",
       "<span style=\"color: #800000; text-decoration-color: #800000\">│</span>   <span style=\"color: #7f7f7f; text-decoration-color: #7f7f7f\"> 416 </span><span style=\"color: #7f7f7f; text-decoration-color: #7f7f7f\">│   │   </span><span style=\"color: #7f7f7f; text-decoration-color: #7f7f7f\"># Load from URL or cache if already cached</span>                                        <span style=\"color: #800000; text-decoration-color: #800000\">│</span>\n",
       "<span style=\"color: #800000; text-decoration-color: #800000\">│</span> <span style=\"color: #800000; text-decoration-color: #800000\">❱ </span> 417 <span style=\"color: #7f7f7f; text-decoration-color: #7f7f7f\">│   │   </span>resolved_file = hf_hub_download(                                                  <span style=\"color: #800000; text-decoration-color: #800000\">│</span>\n",
       "<span style=\"color: #800000; text-decoration-color: #800000\">│</span>   <span style=\"color: #7f7f7f; text-decoration-color: #7f7f7f\"> 418 </span><span style=\"color: #7f7f7f; text-decoration-color: #7f7f7f\">│   │   │   </span>path_or_repo_id,                                                              <span style=\"color: #800000; text-decoration-color: #800000\">│</span>\n",
       "<span style=\"color: #800000; text-decoration-color: #800000\">│</span>   <span style=\"color: #7f7f7f; text-decoration-color: #7f7f7f\"> 419 </span><span style=\"color: #7f7f7f; text-decoration-color: #7f7f7f\">│   │   │   </span>filename,                                                                     <span style=\"color: #800000; text-decoration-color: #800000\">│</span>\n",
       "<span style=\"color: #800000; text-decoration-color: #800000\">│</span>   <span style=\"color: #7f7f7f; text-decoration-color: #7f7f7f\"> 420 </span><span style=\"color: #7f7f7f; text-decoration-color: #7f7f7f\">│   │   │   </span>subfolder=<span style=\"color: #0000ff; text-decoration-color: #0000ff\">None</span> <span style=\"color: #0000ff; text-decoration-color: #0000ff\">if</span> <span style=\"color: #00ffff; text-decoration-color: #00ffff\">len</span>(subfolder) == <span style=\"color: #0000ff; text-decoration-color: #0000ff\">0</span> <span style=\"color: #0000ff; text-decoration-color: #0000ff\">else</span> subfolder,                         <span style=\"color: #800000; text-decoration-color: #800000\">│</span>\n",
       "<span style=\"color: #800000; text-decoration-color: #800000\">│</span>                                                                                                  <span style=\"color: #800000; text-decoration-color: #800000\">│</span>\n",
       "<span style=\"color: #800000; text-decoration-color: #800000\">│</span> <span style=\"color: #bfbf7f; text-decoration-color: #bfbf7f\">/opt/conda/lib/python3.10/site-packages/huggingface_hub/utils/</span><span style=\"color: #808000; text-decoration-color: #808000; font-weight: bold\">_validators.py</span>:<span style=\"color: #0000ff; text-decoration-color: #0000ff\">110</span> in <span style=\"color: #00ff00; text-decoration-color: #00ff00\">_inner_fn</span>    <span style=\"color: #800000; text-decoration-color: #800000\">│</span>\n",
       "<span style=\"color: #800000; text-decoration-color: #800000\">│</span>                                                                                                  <span style=\"color: #800000; text-decoration-color: #800000\">│</span>\n",
       "<span style=\"color: #800000; text-decoration-color: #800000\">│</span>   <span style=\"color: #7f7f7f; text-decoration-color: #7f7f7f\">107 </span><span style=\"color: #7f7f7f; text-decoration-color: #7f7f7f\">│   │   │   </span>kwargs.items(),  <span style=\"color: #7f7f7f; text-decoration-color: #7f7f7f\"># Kwargs values</span>                                               <span style=\"color: #800000; text-decoration-color: #800000\">│</span>\n",
       "<span style=\"color: #800000; text-decoration-color: #800000\">│</span>   <span style=\"color: #7f7f7f; text-decoration-color: #7f7f7f\">108 </span><span style=\"color: #7f7f7f; text-decoration-color: #7f7f7f\">│   │   </span>):                                                                                 <span style=\"color: #800000; text-decoration-color: #800000\">│</span>\n",
       "<span style=\"color: #800000; text-decoration-color: #800000\">│</span>   <span style=\"color: #7f7f7f; text-decoration-color: #7f7f7f\">109 </span><span style=\"color: #7f7f7f; text-decoration-color: #7f7f7f\">│   │   │   </span><span style=\"color: #0000ff; text-decoration-color: #0000ff\">if</span> arg_name <span style=\"color: #ff00ff; text-decoration-color: #ff00ff\">in</span> [<span style=\"color: #808000; text-decoration-color: #808000\">\"repo_id\"</span>, <span style=\"color: #808000; text-decoration-color: #808000\">\"from_id\"</span>, <span style=\"color: #808000; text-decoration-color: #808000\">\"to_id\"</span>]:                                <span style=\"color: #800000; text-decoration-color: #800000\">│</span>\n",
       "<span style=\"color: #800000; text-decoration-color: #800000\">│</span> <span style=\"color: #800000; text-decoration-color: #800000\">❱ </span>110 <span style=\"color: #7f7f7f; text-decoration-color: #7f7f7f\">│   │   │   │   </span>validate_repo_id(arg_value)                                                <span style=\"color: #800000; text-decoration-color: #800000\">│</span>\n",
       "<span style=\"color: #800000; text-decoration-color: #800000\">│</span>   <span style=\"color: #7f7f7f; text-decoration-color: #7f7f7f\">111 </span><span style=\"color: #7f7f7f; text-decoration-color: #7f7f7f\">│   │   │   </span>                                                                               <span style=\"color: #800000; text-decoration-color: #800000\">│</span>\n",
       "<span style=\"color: #800000; text-decoration-color: #800000\">│</span>   <span style=\"color: #7f7f7f; text-decoration-color: #7f7f7f\">112 </span><span style=\"color: #7f7f7f; text-decoration-color: #7f7f7f\">│   │   │   </span><span style=\"color: #0000ff; text-decoration-color: #0000ff\">elif</span> arg_name == <span style=\"color: #808000; text-decoration-color: #808000\">\"token\"</span> <span style=\"color: #ff00ff; text-decoration-color: #ff00ff\">and</span> arg_value <span style=\"color: #ff00ff; text-decoration-color: #ff00ff\">is</span> <span style=\"color: #ff00ff; text-decoration-color: #ff00ff\">not</span> <span style=\"color: #0000ff; text-decoration-color: #0000ff\">None</span>:                            <span style=\"color: #800000; text-decoration-color: #800000\">│</span>\n",
       "<span style=\"color: #800000; text-decoration-color: #800000\">│</span>   <span style=\"color: #7f7f7f; text-decoration-color: #7f7f7f\">113 </span><span style=\"color: #7f7f7f; text-decoration-color: #7f7f7f\">│   │   │   │   </span>has_token = <span style=\"color: #0000ff; text-decoration-color: #0000ff\">True</span>                                                           <span style=\"color: #800000; text-decoration-color: #800000\">│</span>\n",
       "<span style=\"color: #800000; text-decoration-color: #800000\">│</span>                                                                                                  <span style=\"color: #800000; text-decoration-color: #800000\">│</span>\n",
       "<span style=\"color: #800000; text-decoration-color: #800000\">│</span> <span style=\"color: #bfbf7f; text-decoration-color: #bfbf7f\">/opt/conda/lib/python3.10/site-packages/huggingface_hub/utils/</span><span style=\"color: #808000; text-decoration-color: #808000; font-weight: bold\">_validators.py</span>:<span style=\"color: #0000ff; text-decoration-color: #0000ff\">158</span> in              <span style=\"color: #800000; text-decoration-color: #800000\">│</span>\n",
       "<span style=\"color: #800000; text-decoration-color: #800000\">│</span> <span style=\"color: #00ff00; text-decoration-color: #00ff00\">validate_repo_id</span>                                                                                 <span style=\"color: #800000; text-decoration-color: #800000\">│</span>\n",
       "<span style=\"color: #800000; text-decoration-color: #800000\">│</span>                                                                                                  <span style=\"color: #800000; text-decoration-color: #800000\">│</span>\n",
       "<span style=\"color: #800000; text-decoration-color: #800000\">│</span>   <span style=\"color: #7f7f7f; text-decoration-color: #7f7f7f\">155 </span><span style=\"color: #7f7f7f; text-decoration-color: #7f7f7f\">│   │   </span><span style=\"color: #0000ff; text-decoration-color: #0000ff\">raise</span> HFValidationError(<span style=\"color: #808000; text-decoration-color: #808000\">f\"Repo id must be a string, not {</span><span style=\"color: #00ffff; text-decoration-color: #00ffff\">type</span>(repo_id)<span style=\"color: #808000; text-decoration-color: #808000\">}: '{</span>repo_   <span style=\"color: #800000; text-decoration-color: #800000\">│</span>\n",
       "<span style=\"color: #800000; text-decoration-color: #800000\">│</span>   <span style=\"color: #7f7f7f; text-decoration-color: #7f7f7f\">156 </span><span style=\"color: #7f7f7f; text-decoration-color: #7f7f7f\">│   </span>                                                                                       <span style=\"color: #800000; text-decoration-color: #800000\">│</span>\n",
       "<span style=\"color: #800000; text-decoration-color: #800000\">│</span>   <span style=\"color: #7f7f7f; text-decoration-color: #7f7f7f\">157 </span><span style=\"color: #7f7f7f; text-decoration-color: #7f7f7f\">│   </span><span style=\"color: #0000ff; text-decoration-color: #0000ff\">if</span> repo_id.count(<span style=\"color: #808000; text-decoration-color: #808000\">\"/\"</span>) &gt; <span style=\"color: #0000ff; text-decoration-color: #0000ff\">1</span>:                                                             <span style=\"color: #800000; text-decoration-color: #800000\">│</span>\n",
       "<span style=\"color: #800000; text-decoration-color: #800000\">│</span> <span style=\"color: #800000; text-decoration-color: #800000\">❱ </span>158 <span style=\"color: #7f7f7f; text-decoration-color: #7f7f7f\">│   │   </span><span style=\"color: #0000ff; text-decoration-color: #0000ff\">raise</span> HFValidationError(                                                           <span style=\"color: #800000; text-decoration-color: #800000\">│</span>\n",
       "<span style=\"color: #800000; text-decoration-color: #800000\">│</span>   <span style=\"color: #7f7f7f; text-decoration-color: #7f7f7f\">159 </span><span style=\"color: #7f7f7f; text-decoration-color: #7f7f7f\">│   │   │   </span><span style=\"color: #808000; text-decoration-color: #808000\">\"Repo id must be in the form 'repo_name' or 'namespace/repo_name':\"</span>            <span style=\"color: #800000; text-decoration-color: #800000\">│</span>\n",
       "<span style=\"color: #800000; text-decoration-color: #800000\">│</span>   <span style=\"color: #7f7f7f; text-decoration-color: #7f7f7f\">160 </span><span style=\"color: #7f7f7f; text-decoration-color: #7f7f7f\">│   │   │   </span><span style=\"color: #808000; text-decoration-color: #808000\">f\" '{</span>repo_id<span style=\"color: #808000; text-decoration-color: #808000\">}'. Use `repo_type` argument if needed.\"</span>                           <span style=\"color: #800000; text-decoration-color: #800000\">│</span>\n",
       "<span style=\"color: #800000; text-decoration-color: #800000\">│</span>   <span style=\"color: #7f7f7f; text-decoration-color: #7f7f7f\">161 </span><span style=\"color: #7f7f7f; text-decoration-color: #7f7f7f\">│   │   </span>)                                                                                  <span style=\"color: #800000; text-decoration-color: #800000\">│</span>\n",
       "<span style=\"color: #800000; text-decoration-color: #800000\">╰──────────────────────────────────────────────────────────────────────────────────────────────────╯</span>\n",
       "<span style=\"color: #ff0000; text-decoration-color: #ff0000; font-weight: bold\">HFValidationError: </span>Repo id must be in the form <span style=\"color: #008000; text-decoration-color: #008000\">'repo_name'</span> or <span style=\"color: #008000; text-decoration-color: #008000\">'namespace/repo_name'</span>: \n",
       "<span style=\"color: #008000; text-decoration-color: #008000\">'/kaggle/working/mBartLarge67k50News147meet'</span>. Use `repo_type` argument if needed.\n",
       "</pre>\n"
      ],
      "text/plain": [
       "\u001b[31m╭─\u001b[0m\u001b[31m──────────────────────────────\u001b[0m\u001b[31m \u001b[0m\u001b[1;31mTraceback \u001b[0m\u001b[1;2;31m(most recent call last)\u001b[0m\u001b[31m \u001b[0m\u001b[31m───────────────────────────────\u001b[0m\u001b[31m─╮\u001b[0m\n",
       "\u001b[31m│\u001b[0m in \u001b[92m<module>\u001b[0m:\u001b[94m4\u001b[0m                                                                                    \u001b[31m│\u001b[0m\n",
       "\u001b[31m│\u001b[0m                                                                                                  \u001b[31m│\u001b[0m\n",
       "\u001b[31m│\u001b[0m   \u001b[2m1 \u001b[0m\u001b[94mfrom\u001b[0m \u001b[4;96mtransformers\u001b[0m \u001b[94mimport\u001b[0m AutoModelForSeq2SeqLM, AutoTokenizer,MBartForConditionalGenerat     \u001b[31m│\u001b[0m\n",
       "\u001b[31m│\u001b[0m   \u001b[2m2 \u001b[0m                                                                                             \u001b[31m│\u001b[0m\n",
       "\u001b[31m│\u001b[0m   \u001b[2m3 \u001b[0mmodel_ckpt = \u001b[33m\"\u001b[0m\u001b[33m/kaggle/working/mBartLarge67k50News147meet\u001b[0m\u001b[33m\"\u001b[0m                                    \u001b[31m│\u001b[0m\n",
       "\u001b[31m│\u001b[0m \u001b[31m❱ \u001b[0m4 tokenizer = AutoTokenizer.from_pretrained(model_ckpt)                                        \u001b[31m│\u001b[0m\n",
       "\u001b[31m│\u001b[0m   \u001b[2m5 \u001b[0mmodel = MBartForConditionalGeneration.from_pretrained(\u001b[33m'\u001b[0m\u001b[33m/kaggle/working/mBartLarge67k50Ne\u001b[0m     \u001b[31m│\u001b[0m\n",
       "\u001b[31m│\u001b[0m   \u001b[2m6 \u001b[0m                                                                                             \u001b[31m│\u001b[0m\n",
       "\u001b[31m│\u001b[0m                                                                                                  \u001b[31m│\u001b[0m\n",
       "\u001b[31m│\u001b[0m \u001b[2;33m/opt/conda/lib/python3.10/site-packages/transformers/models/auto/\u001b[0m\u001b[1;33mtokenization_auto.py\u001b[0m:\u001b[94m643\u001b[0m in     \u001b[31m│\u001b[0m\n",
       "\u001b[31m│\u001b[0m \u001b[92mfrom_pretrained\u001b[0m                                                                                  \u001b[31m│\u001b[0m\n",
       "\u001b[31m│\u001b[0m                                                                                                  \u001b[31m│\u001b[0m\n",
       "\u001b[31m│\u001b[0m   \u001b[2m640 \u001b[0m\u001b[2m│   │   │   \u001b[0m\u001b[94mreturn\u001b[0m tokenizer_class.from_pretrained(pretrained_model_name_or_path, *input   \u001b[31m│\u001b[0m\n",
       "\u001b[31m│\u001b[0m   \u001b[2m641 \u001b[0m\u001b[2m│   │   \u001b[0m                                                                                   \u001b[31m│\u001b[0m\n",
       "\u001b[31m│\u001b[0m   \u001b[2m642 \u001b[0m\u001b[2m│   │   \u001b[0m\u001b[2m# Next, let's try to use the tokenizer_config file to get the tokenizer class.\u001b[0m     \u001b[31m│\u001b[0m\n",
       "\u001b[31m│\u001b[0m \u001b[31m❱ \u001b[0m643 \u001b[2m│   │   \u001b[0mtokenizer_config = get_tokenizer_config(pretrained_model_name_or_path, **kwargs)   \u001b[31m│\u001b[0m\n",
       "\u001b[31m│\u001b[0m   \u001b[2m644 \u001b[0m\u001b[2m│   │   \u001b[0m\u001b[94mif\u001b[0m \u001b[33m\"\u001b[0m\u001b[33m_commit_hash\u001b[0m\u001b[33m\"\u001b[0m \u001b[95min\u001b[0m tokenizer_config:                                             \u001b[31m│\u001b[0m\n",
       "\u001b[31m│\u001b[0m   \u001b[2m645 \u001b[0m\u001b[2m│   │   │   \u001b[0mkwargs[\u001b[33m\"\u001b[0m\u001b[33m_commit_hash\u001b[0m\u001b[33m\"\u001b[0m] = tokenizer_config[\u001b[33m\"\u001b[0m\u001b[33m_commit_hash\u001b[0m\u001b[33m\"\u001b[0m]                      \u001b[31m│\u001b[0m\n",
       "\u001b[31m│\u001b[0m   \u001b[2m646 \u001b[0m\u001b[2m│   │   \u001b[0mconfig_tokenizer_class = tokenizer_config.get(\u001b[33m\"\u001b[0m\u001b[33mtokenizer_class\u001b[0m\u001b[33m\"\u001b[0m)                   \u001b[31m│\u001b[0m\n",
       "\u001b[31m│\u001b[0m                                                                                                  \u001b[31m│\u001b[0m\n",
       "\u001b[31m│\u001b[0m \u001b[2;33m/opt/conda/lib/python3.10/site-packages/transformers/models/auto/\u001b[0m\u001b[1;33mtokenization_auto.py\u001b[0m:\u001b[94m487\u001b[0m in     \u001b[31m│\u001b[0m\n",
       "\u001b[31m│\u001b[0m \u001b[92mget_tokenizer_config\u001b[0m                                                                             \u001b[31m│\u001b[0m\n",
       "\u001b[31m│\u001b[0m                                                                                                  \u001b[31m│\u001b[0m\n",
       "\u001b[31m│\u001b[0m   \u001b[2m484 \u001b[0m\u001b[2;33m│   \u001b[0m\u001b[33mtokenizer_config = get_tokenizer_config(\"tokenizer-test\")\u001b[0m                              \u001b[31m│\u001b[0m\n",
       "\u001b[31m│\u001b[0m   \u001b[2m485 \u001b[0m\u001b[2;33m│   \u001b[0m\u001b[33m```\"\"\"\u001b[0m                                                                                 \u001b[31m│\u001b[0m\n",
       "\u001b[31m│\u001b[0m   \u001b[2m486 \u001b[0m\u001b[2m│   \u001b[0mcommit_hash = kwargs.get(\u001b[33m\"\u001b[0m\u001b[33m_commit_hash\u001b[0m\u001b[33m\"\u001b[0m, \u001b[94mNone\u001b[0m)                                         \u001b[31m│\u001b[0m\n",
       "\u001b[31m│\u001b[0m \u001b[31m❱ \u001b[0m487 \u001b[2m│   \u001b[0mresolved_config_file = cached_file(                                                    \u001b[31m│\u001b[0m\n",
       "\u001b[31m│\u001b[0m   \u001b[2m488 \u001b[0m\u001b[2m│   │   \u001b[0mpretrained_model_name_or_path,                                                     \u001b[31m│\u001b[0m\n",
       "\u001b[31m│\u001b[0m   \u001b[2m489 \u001b[0m\u001b[2m│   │   \u001b[0mTOKENIZER_CONFIG_FILE,                                                             \u001b[31m│\u001b[0m\n",
       "\u001b[31m│\u001b[0m   \u001b[2m490 \u001b[0m\u001b[2m│   │   \u001b[0mcache_dir=cache_dir,                                                               \u001b[31m│\u001b[0m\n",
       "\u001b[31m│\u001b[0m                                                                                                  \u001b[31m│\u001b[0m\n",
       "\u001b[31m│\u001b[0m \u001b[2;33m/opt/conda/lib/python3.10/site-packages/transformers/utils/\u001b[0m\u001b[1;33mhub.py\u001b[0m:\u001b[94m417\u001b[0m in \u001b[92mcached_file\u001b[0m             \u001b[31m│\u001b[0m\n",
       "\u001b[31m│\u001b[0m                                                                                                  \u001b[31m│\u001b[0m\n",
       "\u001b[31m│\u001b[0m   \u001b[2m 414 \u001b[0m\u001b[2m│   \u001b[0muser_agent = http_user_agent(user_agent)                                              \u001b[31m│\u001b[0m\n",
       "\u001b[31m│\u001b[0m   \u001b[2m 415 \u001b[0m\u001b[2m│   \u001b[0m\u001b[94mtry\u001b[0m:                                                                                  \u001b[31m│\u001b[0m\n",
       "\u001b[31m│\u001b[0m   \u001b[2m 416 \u001b[0m\u001b[2m│   │   \u001b[0m\u001b[2m# Load from URL or cache if already cached\u001b[0m                                        \u001b[31m│\u001b[0m\n",
       "\u001b[31m│\u001b[0m \u001b[31m❱ \u001b[0m 417 \u001b[2m│   │   \u001b[0mresolved_file = hf_hub_download(                                                  \u001b[31m│\u001b[0m\n",
       "\u001b[31m│\u001b[0m   \u001b[2m 418 \u001b[0m\u001b[2m│   │   │   \u001b[0mpath_or_repo_id,                                                              \u001b[31m│\u001b[0m\n",
       "\u001b[31m│\u001b[0m   \u001b[2m 419 \u001b[0m\u001b[2m│   │   │   \u001b[0mfilename,                                                                     \u001b[31m│\u001b[0m\n",
       "\u001b[31m│\u001b[0m   \u001b[2m 420 \u001b[0m\u001b[2m│   │   │   \u001b[0msubfolder=\u001b[94mNone\u001b[0m \u001b[94mif\u001b[0m \u001b[96mlen\u001b[0m(subfolder) == \u001b[94m0\u001b[0m \u001b[94melse\u001b[0m subfolder,                         \u001b[31m│\u001b[0m\n",
       "\u001b[31m│\u001b[0m                                                                                                  \u001b[31m│\u001b[0m\n",
       "\u001b[31m│\u001b[0m \u001b[2;33m/opt/conda/lib/python3.10/site-packages/huggingface_hub/utils/\u001b[0m\u001b[1;33m_validators.py\u001b[0m:\u001b[94m110\u001b[0m in \u001b[92m_inner_fn\u001b[0m    \u001b[31m│\u001b[0m\n",
       "\u001b[31m│\u001b[0m                                                                                                  \u001b[31m│\u001b[0m\n",
       "\u001b[31m│\u001b[0m   \u001b[2m107 \u001b[0m\u001b[2m│   │   │   \u001b[0mkwargs.items(),  \u001b[2m# Kwargs values\u001b[0m                                               \u001b[31m│\u001b[0m\n",
       "\u001b[31m│\u001b[0m   \u001b[2m108 \u001b[0m\u001b[2m│   │   \u001b[0m):                                                                                 \u001b[31m│\u001b[0m\n",
       "\u001b[31m│\u001b[0m   \u001b[2m109 \u001b[0m\u001b[2m│   │   │   \u001b[0m\u001b[94mif\u001b[0m arg_name \u001b[95min\u001b[0m [\u001b[33m\"\u001b[0m\u001b[33mrepo_id\u001b[0m\u001b[33m\"\u001b[0m, \u001b[33m\"\u001b[0m\u001b[33mfrom_id\u001b[0m\u001b[33m\"\u001b[0m, \u001b[33m\"\u001b[0m\u001b[33mto_id\u001b[0m\u001b[33m\"\u001b[0m]:                                \u001b[31m│\u001b[0m\n",
       "\u001b[31m│\u001b[0m \u001b[31m❱ \u001b[0m110 \u001b[2m│   │   │   │   \u001b[0mvalidate_repo_id(arg_value)                                                \u001b[31m│\u001b[0m\n",
       "\u001b[31m│\u001b[0m   \u001b[2m111 \u001b[0m\u001b[2m│   │   │   \u001b[0m                                                                               \u001b[31m│\u001b[0m\n",
       "\u001b[31m│\u001b[0m   \u001b[2m112 \u001b[0m\u001b[2m│   │   │   \u001b[0m\u001b[94melif\u001b[0m arg_name == \u001b[33m\"\u001b[0m\u001b[33mtoken\u001b[0m\u001b[33m\"\u001b[0m \u001b[95mand\u001b[0m arg_value \u001b[95mis\u001b[0m \u001b[95mnot\u001b[0m \u001b[94mNone\u001b[0m:                            \u001b[31m│\u001b[0m\n",
       "\u001b[31m│\u001b[0m   \u001b[2m113 \u001b[0m\u001b[2m│   │   │   │   \u001b[0mhas_token = \u001b[94mTrue\u001b[0m                                                           \u001b[31m│\u001b[0m\n",
       "\u001b[31m│\u001b[0m                                                                                                  \u001b[31m│\u001b[0m\n",
       "\u001b[31m│\u001b[0m \u001b[2;33m/opt/conda/lib/python3.10/site-packages/huggingface_hub/utils/\u001b[0m\u001b[1;33m_validators.py\u001b[0m:\u001b[94m158\u001b[0m in              \u001b[31m│\u001b[0m\n",
       "\u001b[31m│\u001b[0m \u001b[92mvalidate_repo_id\u001b[0m                                                                                 \u001b[31m│\u001b[0m\n",
       "\u001b[31m│\u001b[0m                                                                                                  \u001b[31m│\u001b[0m\n",
       "\u001b[31m│\u001b[0m   \u001b[2m155 \u001b[0m\u001b[2m│   │   \u001b[0m\u001b[94mraise\u001b[0m HFValidationError(\u001b[33mf\u001b[0m\u001b[33m\"\u001b[0m\u001b[33mRepo id must be a string, not \u001b[0m\u001b[33m{\u001b[0m\u001b[96mtype\u001b[0m(repo_id)\u001b[33m}\u001b[0m\u001b[33m: \u001b[0m\u001b[33m'\u001b[0m\u001b[33m{\u001b[0mrepo_   \u001b[31m│\u001b[0m\n",
       "\u001b[31m│\u001b[0m   \u001b[2m156 \u001b[0m\u001b[2m│   \u001b[0m                                                                                       \u001b[31m│\u001b[0m\n",
       "\u001b[31m│\u001b[0m   \u001b[2m157 \u001b[0m\u001b[2m│   \u001b[0m\u001b[94mif\u001b[0m repo_id.count(\u001b[33m\"\u001b[0m\u001b[33m/\u001b[0m\u001b[33m\"\u001b[0m) > \u001b[94m1\u001b[0m:                                                             \u001b[31m│\u001b[0m\n",
       "\u001b[31m│\u001b[0m \u001b[31m❱ \u001b[0m158 \u001b[2m│   │   \u001b[0m\u001b[94mraise\u001b[0m HFValidationError(                                                           \u001b[31m│\u001b[0m\n",
       "\u001b[31m│\u001b[0m   \u001b[2m159 \u001b[0m\u001b[2m│   │   │   \u001b[0m\u001b[33m\"\u001b[0m\u001b[33mRepo id must be in the form \u001b[0m\u001b[33m'\u001b[0m\u001b[33mrepo_name\u001b[0m\u001b[33m'\u001b[0m\u001b[33m or \u001b[0m\u001b[33m'\u001b[0m\u001b[33mnamespace/repo_name\u001b[0m\u001b[33m'\u001b[0m\u001b[33m:\u001b[0m\u001b[33m\"\u001b[0m            \u001b[31m│\u001b[0m\n",
       "\u001b[31m│\u001b[0m   \u001b[2m160 \u001b[0m\u001b[2m│   │   │   \u001b[0m\u001b[33mf\u001b[0m\u001b[33m\"\u001b[0m\u001b[33m \u001b[0m\u001b[33m'\u001b[0m\u001b[33m{\u001b[0mrepo_id\u001b[33m}\u001b[0m\u001b[33m'\u001b[0m\u001b[33m. Use `repo_type` argument if needed.\u001b[0m\u001b[33m\"\u001b[0m                           \u001b[31m│\u001b[0m\n",
       "\u001b[31m│\u001b[0m   \u001b[2m161 \u001b[0m\u001b[2m│   │   \u001b[0m)                                                                                  \u001b[31m│\u001b[0m\n",
       "\u001b[31m╰──────────────────────────────────────────────────────────────────────────────────────────────────╯\u001b[0m\n",
       "\u001b[1;91mHFValidationError: \u001b[0mRepo id must be in the form \u001b[32m'repo_name'\u001b[0m or \u001b[32m'namespace/repo_name'\u001b[0m: \n",
       "\u001b[32m'/kaggle/working/mBartLarge67k50News147meet'\u001b[0m. Use `repo_type` argument if needed.\n"
      ]
     },
     "metadata": {},
     "output_type": "display_data"
    }
   ],
   "source": [
    "from transformers import AutoModelForSeq2SeqLM, AutoTokenizer,MBartForConditionalGeneration\n",
    "\n",
    "model_ckpt = \"/kaggle/working/mBartLarge67k50News147meet\"\n",
    "tokenizer = AutoTokenizer.from_pretrained(model_ckpt)\n",
    "model = MBartForConditionalGeneration.from_pretrained('/kaggle/working/mBartLarge67k50News147meet')"
   ]
  },
  {
   "cell_type": "code",
   "execution_count": null,
   "id": "0ea872cc",
   "metadata": {
    "papermill": {
     "duration": null,
     "end_time": null,
     "exception": null,
     "start_time": null,
     "status": "pending"
    },
    "tags": []
   },
   "outputs": [],
   "source": [
    "train_dataset"
   ]
  },
  {
   "cell_type": "code",
   "execution_count": null,
   "id": "e970fbed",
   "metadata": {
    "papermill": {
     "duration": null,
     "end_time": null,
     "exception": null,
     "start_time": null,
     "status": "pending"
    },
    "tags": []
   },
   "outputs": [],
   "source": [
    "# tokenized_inputs = concatenate_datasets([train_dataset, val_dataset]).map(lambda x: tokenizer(x[\"Question\"], truncation=True,padding='max_length'),\n",
    "#                                                                                  batched=True, remove_columns=[\"Question\",\"Answer\"])\n",
    "# max_source_length = max([len(x) for x in tokenized_inputs[\"input_ids\"]])\n",
    "# print(f\"Max source length: {max_source_length}\")\n",
    "# tokenized_outputs = concatenate_datasets([train_dataset, val_dataset]).map(lambda x: tokenizer(x[\"Answer\"], truncation=True,padding='max_length'),\n",
    "#                                                                                  batched=True, remove_columns=[\"Question\",\"Answer\"])\n",
    "# max_target_length = max([len(x) for x in tokenized_outputs[\"input_ids\"]])\n",
    "# print(f\"Max target length: {max_target_length}\")"
   ]
  },
  {
   "cell_type": "code",
   "execution_count": null,
   "id": "b0a65781",
   "metadata": {
    "execution": {
     "iopub.execute_input": "2023-08-16T08:07:54.295071Z",
     "iopub.status.busy": "2023-08-16T08:07:54.294693Z",
     "iopub.status.idle": "2023-08-16T08:08:00.361753Z",
     "shell.execute_reply": "2023-08-16T08:08:00.360744Z",
     "shell.execute_reply.started": "2023-08-16T08:07:54.295038Z"
    },
    "id": "JXh-z_D-bj2t",
    "outputId": "18ebe418-d40f-49d8-c68b-64c621160d5f",
    "papermill": {
     "duration": null,
     "end_time": null,
     "exception": null,
     "start_time": null,
     "status": "pending"
    },
    "tags": []
   },
   "outputs": [],
   "source": [
    "def convert_examples_to_features(example_batch):\n",
    "    input_encodings = tokenizer(example_batch[\"Question\"], max_length=1024, padding=\"max_length\",truncation=True)\n",
    "\n",
    "    #with tokenizer.as_target_tokenizer():\n",
    "    target_encodings = tokenizer(example_batch[\"Answer\"], max_length=1024, padding=\"max_length\", truncation=True)\n",
    "\n",
    "    return {\"input_ids\": input_encodings[\"input_ids\"],\n",
    "           \"attention_mask\": input_encodings[\"attention_mask\"],\n",
    "           \"labels\": target_encodings[\"input_ids\"]}\n",
    "\n",
    "train_dataset_tf = train_dataset.map(convert_examples_to_features, batched=True, remove_columns=[\"Question\",\"Answer\"])\n",
    "val_dataset_tf = val_dataset.map(convert_examples_to_features, batched=True, remove_columns=[\"Question\",\"Answer\"])"
   ]
  },
  {
   "cell_type": "code",
   "execution_count": null,
   "id": "a69574cf",
   "metadata": {
    "execution": {
     "iopub.execute_input": "2023-08-16T08:08:05.231912Z",
     "iopub.status.busy": "2023-08-16T08:08:05.231552Z",
     "iopub.status.idle": "2023-08-16T08:08:05.238824Z",
     "shell.execute_reply": "2023-08-16T08:08:05.2377Z",
     "shell.execute_reply.started": "2023-08-16T08:08:05.231883Z"
    },
    "papermill": {
     "duration": null,
     "end_time": null,
     "exception": null,
     "start_time": null,
     "status": "pending"
    },
    "tags": []
   },
   "outputs": [],
   "source": [
    "train_dataset_tf"
   ]
  },
  {
   "cell_type": "code",
   "execution_count": null,
   "id": "f7fa0462",
   "metadata": {
    "id": "WSCipf_Gbr8N",
    "papermill": {
     "duration": null,
     "end_time": null,
     "exception": null,
     "start_time": null,
     "status": "pending"
    },
    "tags": []
   },
   "outputs": [],
   "source": [
    "# columns = [\"input_ids\", \"labels\", \"attention_mask\"]\n",
    "# train_dataset_tf.set_format(type=\"torch\", columns=columns)\n",
    "# val_dataset_tf.set_format(type=\"torch\", columns=columns)"
   ]
  },
  {
   "cell_type": "code",
   "execution_count": null,
   "id": "50c25794",
   "metadata": {
    "id": "Ngz0z9-SPAjv",
    "papermill": {
     "duration": null,
     "end_time": null,
     "exception": null,
     "start_time": null,
     "status": "pending"
    },
    "tags": []
   },
   "outputs": [],
   "source": [
    "# test_file = '/content/gdrive/MyDrive/mt5/Data 50+30/urdu_test.jsonl'\n",
    "# tdataset = load_dataset('json', data_files=[test_file])\n",
    "# test_dataset = tdataset['train']\n",
    "# test_dataset_tf = test_dataset.map(convert_examples_to_features, batched=True)\n",
    "# test_dataset_tf.set_format(type=\"torch\", columns=columns)"
   ]
  },
  {
   "cell_type": "code",
   "execution_count": null,
   "id": "ad86ec32",
   "metadata": {
    "id": "ia-7E-iePBsq",
    "papermill": {
     "duration": null,
     "end_time": null,
     "exception": null,
     "start_time": null,
     "status": "pending"
    },
    "tags": []
   },
   "outputs": [],
   "source": [
    "# !pip install evaluate"
   ]
  },
  {
   "cell_type": "code",
   "execution_count": null,
   "id": "b2e3a02d",
   "metadata": {
    "id": "XNoU95nUykdy",
    "papermill": {
     "duration": null,
     "end_time": null,
     "exception": null,
     "start_time": null,
     "status": "pending"
    },
    "tags": []
   },
   "outputs": [],
   "source": [
    "# !pip install bert_score"
   ]
  },
  {
   "cell_type": "code",
   "execution_count": null,
   "id": "8a1a9d4b",
   "metadata": {
    "id": "9N0Rp6K-EekS",
    "papermill": {
     "duration": null,
     "end_time": null,
     "exception": null,
     "start_time": null,
     "status": "pending"
    },
    "tags": []
   },
   "outputs": [],
   "source": [
    "# !pip install rouge_score"
   ]
  },
  {
   "cell_type": "code",
   "execution_count": null,
   "id": "fcbe7e7d",
   "metadata": {
    "execution": {
     "iopub.execute_input": "2023-08-16T08:08:11.371774Z",
     "iopub.status.busy": "2023-08-16T08:08:11.371416Z",
     "iopub.status.idle": "2023-08-16T08:08:12.056559Z",
     "shell.execute_reply": "2023-08-16T08:08:12.055443Z",
     "shell.execute_reply.started": "2023-08-16T08:08:11.371744Z"
    },
    "id": "w1-L5vRPbzjC",
    "papermill": {
     "duration": null,
     "end_time": null,
     "exception": null,
     "start_time": null,
     "status": "pending"
    },
    "tags": []
   },
   "outputs": [],
   "source": [
    "from transformers import DataCollatorForSeq2Seq\n",
    "seq2seq_data_collator = DataCollatorForSeq2Seq(tokenizer, model=model)"
   ]
  },
  {
   "cell_type": "code",
   "execution_count": null,
   "id": "702846f2",
   "metadata": {
    "execution": {
     "iopub.execute_input": "2023-08-16T08:08:22.700749Z",
     "iopub.status.busy": "2023-08-16T08:08:22.700342Z",
     "iopub.status.idle": "2023-08-16T08:08:22.888642Z",
     "shell.execute_reply": "2023-08-16T08:08:22.88764Z",
     "shell.execute_reply.started": "2023-08-16T08:08:22.700717Z"
    },
    "id": "I_iwisdNb0zm",
    "papermill": {
     "duration": null,
     "end_time": null,
     "exception": null,
     "start_time": null,
     "status": "pending"
    },
    "tags": []
   },
   "outputs": [],
   "source": [
    "from transformers import Seq2SeqTrainingArguments, Seq2SeqTrainer,TrainingArguments, Trainer\n",
    "\n",
    "training_args = Seq2SeqTrainingArguments(output_dir='mbart', num_train_epochs=10,\n",
    "                                  per_device_train_batch_size=1, per_device_eval_batch_size=1,\n",
    "                                evaluation_strategy='steps',save_strategy='no',eval_steps=300,logging_steps=1000,\n",
    "                                  weight_decay=0.01, push_to_hub=False,\n",
    "                           fp16=True,learning_rate=2e-5,optim=\"adafactor\")"
   ]
  },
  {
   "cell_type": "code",
   "execution_count": null,
   "id": "b7ff1465",
   "metadata": {
    "execution": {
     "iopub.execute_input": "2023-08-16T08:08:25.861054Z",
     "iopub.status.busy": "2023-08-16T08:08:25.860676Z",
     "iopub.status.idle": "2023-08-16T08:08:26.161598Z",
     "shell.execute_reply": "2023-08-16T08:08:26.160444Z",
     "shell.execute_reply.started": "2023-08-16T08:08:25.861024Z"
    },
    "id": "CjmKxc7hZ70N",
    "papermill": {
     "duration": null,
     "end_time": null,
     "exception": null,
     "start_time": null,
     "status": "pending"
    },
    "tags": []
   },
   "outputs": [],
   "source": [
    "import gc\n",
    "gc.collect()"
   ]
  },
  {
   "cell_type": "code",
   "execution_count": null,
   "id": "93e09979",
   "metadata": {
    "papermill": {
     "duration": null,
     "end_time": null,
     "exception": null,
     "start_time": null,
     "status": "pending"
    },
    "tags": []
   },
   "outputs": [],
   "source": [
    "#  torch.cuda.empty_cache()"
   ]
  },
  {
   "cell_type": "code",
   "execution_count": null,
   "id": "f2bafddf",
   "metadata": {
    "execution": {
     "iopub.execute_input": "2023-08-16T08:08:31.437035Z",
     "iopub.status.busy": "2023-08-16T08:08:31.436668Z",
     "iopub.status.idle": "2023-08-16T08:19:27.093708Z",
     "shell.execute_reply": "2023-08-16T08:19:27.092669Z",
     "shell.execute_reply.started": "2023-08-16T08:08:31.437004Z"
    },
    "id": "OuevlhILb8-L",
    "papermill": {
     "duration": null,
     "end_time": null,
     "exception": null,
     "start_time": null,
     "status": "pending"
    },
    "tags": []
   },
   "outputs": [],
   "source": [
    "trainer = Seq2SeqTrainer(model=model, args=training_args, tokenizer=tokenizer,\n",
    "                  data_collator=seq2seq_data_collator,\n",
    "                  train_dataset=train_dataset_tf,\n",
    "                        eval_dataset=val_dataset_tf)\n",
    "\n",
    "trainer.train()"
   ]
  },
  {
   "cell_type": "code",
   "execution_count": null,
   "id": "f89dda24",
   "metadata": {
    "execution": {
     "iopub.execute_input": "2023-08-16T08:19:52.013475Z",
     "iopub.status.busy": "2023-08-16T08:19:52.011215Z",
     "iopub.status.idle": "2023-08-16T08:19:59.726937Z",
     "shell.execute_reply": "2023-08-16T08:19:59.725801Z",
     "shell.execute_reply.started": "2023-08-16T08:19:52.013424Z"
    },
    "id": "-qngqmmPEj3E",
    "papermill": {
     "duration": null,
     "end_time": null,
     "exception": null,
     "start_time": null,
     "status": "pending"
    },
    "tags": []
   },
   "outputs": [],
   "source": [
    "trainer.save_model(\"mBartLarge67k50News147Scripts60Meet\")"
   ]
  },
  {
   "cell_type": "code",
   "execution_count": null,
   "id": "0e749465",
   "metadata": {
    "execution": {
     "iopub.execute_input": "2023-08-16T08:20:25.103627Z",
     "iopub.status.busy": "2023-08-16T08:20:25.103223Z",
     "iopub.status.idle": "2023-08-16T08:22:51.701089Z",
     "shell.execute_reply": "2023-08-16T08:22:51.697862Z",
     "shell.execute_reply.started": "2023-08-16T08:20:25.103595Z"
    },
    "papermill": {
     "duration": null,
     "end_time": null,
     "exception": null,
     "start_time": null,
     "status": "pending"
    },
    "tags": []
   },
   "outputs": [],
   "source": [
    "import shutil\n",
    "shutil.make_archive('finetuned_mbart67k50n147scripts60meet', 'zip', '/kaggle/working/mBartLarge67k50News147Scripts60Meet')"
   ]
  },
  {
   "cell_type": "code",
   "execution_count": null,
   "id": "0cd24b16",
   "metadata": {
    "papermill": {
     "duration": null,
     "end_time": null,
     "exception": null,
     "start_time": null,
     "status": "pending"
    },
    "tags": []
   },
   "outputs": [],
   "source": [
    "from IPython.display import FileLink\n",
    "FileLink(r'finetuned_mbart20k.zip')"
   ]
  },
  {
   "cell_type": "code",
   "execution_count": null,
   "id": "caf736f9",
   "metadata": {
    "execution": {
     "iopub.execute_input": "2023-08-11T06:28:29.385859Z",
     "iopub.status.busy": "2023-08-11T06:28:29.384939Z",
     "iopub.status.idle": "2023-08-11T06:28:54.134533Z",
     "shell.execute_reply": "2023-08-11T06:28:54.133498Z",
     "shell.execute_reply.started": "2023-08-11T06:28:29.385822Z"
    },
    "papermill": {
     "duration": null,
     "end_time": null,
     "exception": null,
     "start_time": null,
     "status": "pending"
    },
    "tags": []
   },
   "outputs": [],
   "source": [
    "from transformers import  AutoTokenizer,MBartForConditionalGeneration"
   ]
  },
  {
   "cell_type": "code",
   "execution_count": null,
   "id": "79b49acc",
   "metadata": {
    "execution": {
     "iopub.execute_input": "2023-08-11T06:29:27.809171Z",
     "iopub.status.busy": "2023-08-11T06:29:27.808805Z",
     "iopub.status.idle": "2023-08-11T06:29:59.222229Z",
     "shell.execute_reply": "2023-08-11T06:29:59.221209Z",
     "shell.execute_reply.started": "2023-08-11T06:29:27.809139Z"
    },
    "papermill": {
     "duration": null,
     "end_time": null,
     "exception": null,
     "start_time": null,
     "status": "pending"
    },
    "tags": []
   },
   "outputs": [],
   "source": [
    "model_ckpt = \"/kaggle/working/mBartLarge67k50News147meet\"\n",
    "tokenizer = AutoTokenizer.from_pretrained(model_ckpt)\n",
    "model = MBartForConditionalGeneration.from_pretrained(\"/kaggle/working/mBartLarge67k50News147meet\").to('cuda:0').half()"
   ]
  },
  {
   "cell_type": "code",
   "execution_count": null,
   "id": "156e1662",
   "metadata": {
    "execution": {
     "iopub.execute_input": "2023-08-11T06:29:59.224836Z",
     "iopub.status.busy": "2023-08-11T06:29:59.224388Z",
     "iopub.status.idle": "2023-08-11T06:29:59.229899Z",
     "shell.execute_reply": "2023-08-11T06:29:59.22862Z",
     "shell.execute_reply.started": "2023-08-11T06:29:59.224802Z"
    },
    "papermill": {
     "duration": null,
     "end_time": null,
     "exception": null,
     "start_time": null,
     "status": "pending"
    },
    "tags": []
   },
   "outputs": [],
   "source": [
    "import pandas as pd"
   ]
  },
  {
   "cell_type": "code",
   "execution_count": null,
   "id": "abaa7afd",
   "metadata": {
    "execution": {
     "iopub.execute_input": "2023-08-10T07:38:31.696135Z",
     "iopub.status.busy": "2023-08-10T07:38:31.695694Z",
     "iopub.status.idle": "2023-08-10T07:38:31.708792Z",
     "shell.execute_reply": "2023-08-10T07:38:31.707748Z",
     "shell.execute_reply.started": "2023-08-10T07:38:31.696099Z"
    },
    "papermill": {
     "duration": null,
     "end_time": null,
     "exception": null,
     "start_time": null,
     "status": "pending"
    },
    "tags": []
   },
   "outputs": [],
   "source": [
    "dataset_test=pd.read_csv('/kaggle/input/meetings1-10/meeting4.csv')"
   ]
  },
  {
   "cell_type": "code",
   "execution_count": null,
   "id": "35644cf2",
   "metadata": {
    "papermill": {
     "duration": null,
     "end_time": null,
     "exception": null,
     "start_time": null,
     "status": "pending"
    },
    "tags": []
   },
   "outputs": [],
   "source": [
    "dataset_test"
   ]
  },
  {
   "cell_type": "code",
   "execution_count": null,
   "id": "42bfcee3",
   "metadata": {
    "papermill": {
     "duration": null,
     "end_time": null,
     "exception": null,
     "start_time": null,
     "status": "pending"
    },
    "tags": []
   },
   "outputs": [],
   "source": [
    "prompt=dataset_test['subpart'][0]\n",
    "prompt='Text :'+prompt\n",
    "prompt"
   ]
  },
  {
   "cell_type": "code",
   "execution_count": null,
   "id": "4a366bc2",
   "metadata": {
    "papermill": {
     "duration": null,
     "end_time": null,
     "exception": null,
     "start_time": null,
     "status": "pending"
    },
    "tags": []
   },
   "outputs": [],
   "source": [
    "# dataset_test['Answer'][9]"
   ]
  },
  {
   "cell_type": "code",
   "execution_count": null,
   "id": "ee1b717c",
   "metadata": {
    "papermill": {
     "duration": null,
     "end_time": null,
     "exception": null,
     "start_time": null,
     "status": "pending"
    },
    "tags": []
   },
   "outputs": [],
   "source": [
    "size=tokenizer(prompt, return_tensors=\"tf\")[\"input_ids\"].shape[1]\n",
    "size"
   ]
  },
  {
   "cell_type": "code",
   "execution_count": null,
   "id": "e097894d",
   "metadata": {
    "execution": {
     "iopub.execute_input": "2023-08-11T06:30:03.52425Z",
     "iopub.status.busy": "2023-08-11T06:30:03.523731Z",
     "iopub.status.idle": "2023-08-11T06:30:03.53506Z",
     "shell.execute_reply": "2023-08-11T06:30:03.533861Z",
     "shell.execute_reply.started": "2023-08-11T06:30:03.524164Z"
    },
    "papermill": {
     "duration": null,
     "end_time": null,
     "exception": null,
     "start_time": null,
     "status": "pending"
    },
    "tags": []
   },
   "outputs": [],
   "source": [
    "def remove_summary_prefix(input_string):\n",
    "    prefix = 'Summary'\n",
    "    output=''\n",
    "    if input_string.startswith(prefix):\n",
    "        output=input_string[len(prefix):].lstrip()\n",
    "    else:\n",
    "        output=input_string\n",
    "    prefix = 'Summary Summary'\n",
    "    if output.startswith(prefix):\n",
    "        return output[len(prefix):].lstrip()\n",
    "    else:\n",
    "        return output"
   ]
  },
  {
   "cell_type": "code",
   "execution_count": null,
   "id": "cfb37c33",
   "metadata": {
    "execution": {
     "iopub.execute_input": "2023-08-11T06:30:04.543576Z",
     "iopub.status.busy": "2023-08-11T06:30:04.543057Z",
     "iopub.status.idle": "2023-08-11T06:30:08.292921Z",
     "shell.execute_reply": "2023-08-11T06:30:08.291561Z",
     "shell.execute_reply.started": "2023-08-11T06:30:04.543537Z"
    },
    "papermill": {
     "duration": null,
     "end_time": null,
     "exception": null,
     "start_time": null,
     "status": "pending"
    },
    "tags": []
   },
   "outputs": [],
   "source": [
    "from transformers import pipeline"
   ]
  },
  {
   "cell_type": "code",
   "execution_count": null,
   "id": "f64c6d54",
   "metadata": {
    "execution": {
     "iopub.execute_input": "2023-08-11T06:30:08.29959Z",
     "iopub.status.busy": "2023-08-11T06:30:08.29909Z",
     "iopub.status.idle": "2023-08-11T06:30:08.525927Z",
     "shell.execute_reply": "2023-08-11T06:30:08.525014Z",
     "shell.execute_reply.started": "2023-08-11T06:30:08.299553Z"
    },
    "papermill": {
     "duration": null,
     "end_time": null,
     "exception": null,
     "start_time": null,
     "status": "pending"
    },
    "tags": []
   },
   "outputs": [],
   "source": [
    "generator = pipeline('text2text-generation', model=model, tokenizer=tokenizer,device='cuda:0',do_sample=False)\n"
   ]
  },
  {
   "cell_type": "code",
   "execution_count": null,
   "id": "e622076c",
   "metadata": {
    "papermill": {
     "duration": null,
     "end_time": null,
     "exception": null,
     "start_time": null,
     "status": "pending"
    },
    "tags": []
   },
   "outputs": [],
   "source": [
    "result = generator(prompt, max_length=1025)"
   ]
  },
  {
   "cell_type": "code",
   "execution_count": null,
   "id": "791dd391",
   "metadata": {
    "papermill": {
     "duration": null,
     "end_time": null,
     "exception": null,
     "start_time": null,
     "status": "pending"
    },
    "tags": []
   },
   "outputs": [],
   "source": [
    "result"
   ]
  },
  {
   "cell_type": "code",
   "execution_count": null,
   "id": "0da2b26c",
   "metadata": {
    "papermill": {
     "duration": null,
     "end_time": null,
     "exception": null,
     "start_time": null,
     "status": "pending"
    },
    "tags": []
   },
   "outputs": [],
   "source": [
    "remove_summary_prefix(result[0]['generated_text'])"
   ]
  },
  {
   "cell_type": "code",
   "execution_count": null,
   "id": "e3480b22",
   "metadata": {
    "papermill": {
     "duration": null,
     "end_time": null,
     "exception": null,
     "start_time": null,
     "status": "pending"
    },
    "tags": []
   },
   "outputs": [],
   "source": [
    "result"
   ]
  },
  {
   "cell_type": "code",
   "execution_count": null,
   "id": "9bb1542c",
   "metadata": {
    "execution": {
     "iopub.execute_input": "2023-08-10T07:38:46.832059Z",
     "iopub.status.busy": "2023-08-10T07:38:46.830967Z",
     "iopub.status.idle": "2023-08-10T07:38:46.837181Z",
     "shell.execute_reply": "2023-08-10T07:38:46.836159Z",
     "shell.execute_reply.started": "2023-08-10T07:38:46.83202Z"
    },
    "papermill": {
     "duration": null,
     "end_time": null,
     "exception": null,
     "start_time": null,
     "status": "pending"
    },
    "tags": []
   },
   "outputs": [],
   "source": [
    "summary=''"
   ]
  },
  {
   "cell_type": "code",
   "execution_count": null,
   "id": "c94ebdca",
   "metadata": {
    "execution": {
     "iopub.execute_input": "2023-08-10T07:39:15.850469Z",
     "iopub.status.busy": "2023-08-10T07:39:15.850083Z",
     "iopub.status.idle": "2023-08-10T07:40:44.423458Z",
     "shell.execute_reply": "2023-08-10T07:40:44.421459Z",
     "shell.execute_reply.started": "2023-08-10T07:39:15.850438Z"
    },
    "papermill": {
     "duration": null,
     "end_time": null,
     "exception": null,
     "start_time": null,
     "status": "pending"
    },
    "tags": []
   },
   "outputs": [],
   "source": [
    "for n in range(dataset_test.shape[0]):\n",
    "    size=tokenizer(dataset_test['subpart'][n], return_tensors=\"tf\")[\"input_ids\"].shape[1] \n",
    "    print(size)\n",
    "    result = generator(dataset_test['subpart'][n], max_length=1024)\n",
    "    res=remove_summary_prefix(result[0]['generated_text'])\n",
    "    summary=summary+res\n",
    "    print(res)"
   ]
  },
  {
   "cell_type": "code",
   "execution_count": null,
   "id": "c93a2e07",
   "metadata": {
    "execution": {
     "iopub.execute_input": "2023-08-10T07:41:01.204232Z",
     "iopub.status.busy": "2023-08-10T07:41:01.203842Z",
     "iopub.status.idle": "2023-08-10T07:41:01.21334Z",
     "shell.execute_reply": "2023-08-10T07:41:01.212232Z",
     "shell.execute_reply.started": "2023-08-10T07:41:01.2042Z"
    },
    "papermill": {
     "duration": null,
     "end_time": null,
     "exception": null,
     "start_time": null,
     "status": "pending"
    },
    "tags": []
   },
   "outputs": [],
   "source": [
    "summary"
   ]
  },
  {
   "cell_type": "code",
   "execution_count": null,
   "id": "cfe5d47a",
   "metadata": {
    "execution": {
     "iopub.execute_input": "2023-08-11T06:30:26.596984Z",
     "iopub.status.busy": "2023-08-11T06:30:26.596603Z",
     "iopub.status.idle": "2023-08-11T06:30:26.714364Z",
     "shell.execute_reply": "2023-08-11T06:30:26.713409Z",
     "shell.execute_reply.started": "2023-08-11T06:30:26.596954Z"
    },
    "papermill": {
     "duration": null,
     "end_time": null,
     "exception": null,
     "start_time": null,
     "status": "pending"
    },
    "tags": []
   },
   "outputs": [],
   "source": [
    "originalmeet=pd.read_csv('/kaggle/input/10meetings/test_data_10meetings.csv')"
   ]
  },
  {
   "cell_type": "code",
   "execution_count": null,
   "id": "05e47943",
   "metadata": {
    "execution": {
     "iopub.execute_input": "2023-08-11T06:30:54.352771Z",
     "iopub.status.busy": "2023-08-11T06:30:54.352326Z",
     "iopub.status.idle": "2023-08-11T06:35:52.918835Z",
     "shell.execute_reply": "2023-08-11T06:35:52.917614Z",
     "shell.execute_reply.started": "2023-08-11T06:30:54.352733Z"
    },
    "papermill": {
     "duration": null,
     "end_time": null,
     "exception": null,
     "start_time": null,
     "status": "pending"
    },
    "tags": []
   },
   "outputs": [],
   "source": [
    "csv_file_path = '/kaggle/input/sampleformbart10k/sample1.csv'\n",
    "df = pd.read_csv(csv_file_path)\n",
    "for m in range (1,11):\n",
    "    filename='/kaggle/input/meetings1-10/meeting'+str(m)+'.csv'\n",
    "    summary=''\n",
    "    dataset_test=pd.read_csv(filename)\n",
    "    for n in range(dataset_test.shape[0]):\n",
    "        text=dataset_test['subpart'][n]\n",
    "        size=tokenizer(text, return_tensors=\"tf\")[\"input_ids\"].shape[1]\n",
    "#         print(size)\n",
    "        result = generator(text, max_length=300)\n",
    "        res=remove_summary_prefix(result[0]['generated_text'])\n",
    "        summary=summary+res\n",
    "#         print(res)\n",
    "    original=originalmeet['summary'][m-1]\n",
    "    new_record_data = {\n",
    "    'Original': original,\n",
    "    'Generated': summary,\n",
    "    }\n",
    "    df = df.append(new_record_data, ignore_index=True)\n",
    "    output_csv_file_path = '/kaggle/working/OutputFor67K50nmBart147meet300maxlength.csv'\n",
    "    df.to_csv(output_csv_file_path, index=False)"
   ]
  },
  {
   "cell_type": "code",
   "execution_count": null,
   "id": "8bb1fc56",
   "metadata": {
    "execution": {
     "iopub.execute_input": "2023-08-10T08:01:18.483637Z",
     "iopub.status.busy": "2023-08-10T08:01:18.483123Z",
     "iopub.status.idle": "2023-08-10T08:01:18.495378Z",
     "shell.execute_reply": "2023-08-10T08:01:18.494376Z",
     "shell.execute_reply.started": "2023-08-10T08:01:18.483602Z"
    },
    "papermill": {
     "duration": null,
     "end_time": null,
     "exception": null,
     "start_time": null,
     "status": "pending"
    },
    "tags": []
   },
   "outputs": [],
   "source": [
    "samples=pd.read_csv('/kaggle/working/OutputFor67K50nmBart306meet.csv')"
   ]
  },
  {
   "cell_type": "code",
   "execution_count": null,
   "id": "ae391c8c",
   "metadata": {
    "execution": {
     "iopub.execute_input": "2023-08-10T08:01:20.032394Z",
     "iopub.status.busy": "2023-08-10T08:01:20.032012Z",
     "iopub.status.idle": "2023-08-10T08:01:20.041181Z",
     "shell.execute_reply": "2023-08-10T08:01:20.04007Z",
     "shell.execute_reply.started": "2023-08-10T08:01:20.032361Z"
    },
    "papermill": {
     "duration": null,
     "end_time": null,
     "exception": null,
     "start_time": null,
     "status": "pending"
    },
    "tags": []
   },
   "outputs": [],
   "source": [
    "samples['Original'][4]"
   ]
  },
  {
   "cell_type": "code",
   "execution_count": null,
   "id": "18609059",
   "metadata": {
    "execution": {
     "iopub.execute_input": "2023-08-10T08:01:24.189532Z",
     "iopub.status.busy": "2023-08-10T08:01:24.189154Z",
     "iopub.status.idle": "2023-08-10T08:01:24.196747Z",
     "shell.execute_reply": "2023-08-10T08:01:24.195771Z",
     "shell.execute_reply.started": "2023-08-10T08:01:24.189501Z"
    },
    "papermill": {
     "duration": null,
     "end_time": null,
     "exception": null,
     "start_time": null,
     "status": "pending"
    },
    "tags": []
   },
   "outputs": [],
   "source": [
    "samples['Generated'][0]"
   ]
  },
  {
   "cell_type": "code",
   "execution_count": null,
   "id": "fc8872d5",
   "metadata": {
    "execution": {
     "iopub.execute_input": "2023-08-10T08:01:44.511799Z",
     "iopub.status.busy": "2023-08-10T08:01:44.511019Z",
     "iopub.status.idle": "2023-08-10T08:01:44.519568Z",
     "shell.execute_reply": "2023-08-10T08:01:44.518463Z",
     "shell.execute_reply.started": "2023-08-10T08:01:44.511755Z"
    },
    "papermill": {
     "duration": null,
     "end_time": null,
     "exception": null,
     "start_time": null,
     "status": "pending"
    },
    "tags": []
   },
   "outputs": [],
   "source": [
    "samples.shape"
   ]
  },
  {
   "cell_type": "code",
   "execution_count": null,
   "id": "da61206f",
   "metadata": {
    "papermill": {
     "duration": null,
     "end_time": null,
     "exception": null,
     "start_time": null,
     "status": "pending"
    },
    "tags": []
   },
   "outputs": [],
   "source": []
  }
 ],
 "metadata": {
  "kernelspec": {
   "display_name": "Python 3",
   "language": "python",
   "name": "python3"
  },
  "language_info": {
   "codemirror_mode": {
    "name": "ipython",
    "version": 3
   },
   "file_extension": ".py",
   "mimetype": "text/x-python",
   "name": "python",
   "nbconvert_exporter": "python",
   "pygments_lexer": "ipython3",
   "version": "3.10.12"
  },
  "papermill": {
   "default_parameters": {},
   "duration": 104.924042,
   "end_time": "2023-08-18T06:10:28.173894",
   "environment_variables": {},
   "exception": true,
   "input_path": "__notebook__.ipynb",
   "output_path": "__notebook__.ipynb",
   "parameters": {},
   "start_time": "2023-08-18T06:08:43.249852",
   "version": "2.4.0"
  }
 },
 "nbformat": 4,
 "nbformat_minor": 5
}
