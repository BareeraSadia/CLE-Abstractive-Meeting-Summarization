{
 "cells": [
  {
   "cell_type": "code",
   "execution_count": null,
   "metadata": {
    "_cell_guid": "b1076dfc-b9ad-4769-8c92-a6c4dae69d19",
    "_uuid": "8f2839f25d086af736a60e9eeb907d3b93b6e0e5"
   },
   "outputs": [],
   "source": [
    "!pip install gdown"
   ]
  },
  {
   "cell_type": "code",
   "execution_count": null,
   "metadata": {},
   "outputs": [],
   "source": [
    "!gdown --id 18M9NIQAPoV7Hq_1csWDizMLOye80NgvL"
   ]
  },
  {
   "cell_type": "code",
   "execution_count": null,
   "metadata": {},
   "outputs": [],
   "source": [
    "import os\n",
    "# os.system(f\"rm -rf /kaggle/working/OutputForRobertaZeroShotFinal.csv\")"
   ]
  },
  {
   "cell_type": "code",
   "execution_count": null,
   "metadata": {},
   "outputs": [],
   "source": [
    "import os\n",
    "\n",
    "# Get the current working directory\n",
    "cwd = os.getcwd()\n",
    "\n",
    "# Get the path to the folder to unzip\n",
    "folder_path = \"/kaggle/working/roberta67k50n.zip\"\n",
    "\n",
    "# Create a new directory to unzip the folder into\n",
    "new_folder_path = os.path.join(cwd, \"urduHack67k50n\")\n",
    "\n",
    "# Unzip the folder\n",
    "os.system(f\"unzip -q {folder_path} -d {new_folder_path}\")\n",
    "\n",
    "# Remove the original folder\n",
    "os.system(f\"rm -rf {folder_path}\")"
   ]
  },
  {
   "cell_type": "code",
   "execution_count": null,
   "metadata": {},
   "outputs": [],
   "source": [
    "# from transformers import BertTokenizer, RobertaTokenizer, EncoderDecoderModel,AutoTokenizer\n",
    "# import transformers\n",
    "# model = EncoderDecoderModel.from_pretrained(\"/kaggle/working/roberta2robertaxlm67k50n\")\n",
    "# # tokenizer = RobertaTokenizer.from_pretrained(\"roberta-base\")\n",
    "# tokenizer = AutoTokenizer.from_pretrained(\"urduhack/roberta-urdu-small\")"
   ]
  },
  {
   "cell_type": "code",
   "execution_count": 1,
   "metadata": {
    "execution": {
     "iopub.execute_input": "2023-08-16T09:06:32.101191Z",
     "iopub.status.busy": "2023-08-16T09:06:32.100816Z",
     "iopub.status.idle": "2023-08-16T09:06:44.113068Z",
     "shell.execute_reply": "2023-08-16T09:06:44.111685Z",
     "shell.execute_reply.started": "2023-08-16T09:06:32.101136Z"
    }
   },
   "outputs": [
    {
     "name": "stdout",
     "output_type": "stream",
     "text": [
      "Requirement already satisfied: nlp in /opt/conda/lib/python3.10/site-packages (0.4.0)\n",
      "Requirement already satisfied: numpy in /opt/conda/lib/python3.10/site-packages (from nlp) (1.23.5)\n",
      "Requirement already satisfied: pyarrow>=0.16.0 in /opt/conda/lib/python3.10/site-packages (from nlp) (11.0.0)\n",
      "Requirement already satisfied: dill in /opt/conda/lib/python3.10/site-packages (from nlp) (0.3.6)\n",
      "Requirement already satisfied: pandas in /opt/conda/lib/python3.10/site-packages (from nlp) (1.5.3)\n",
      "Requirement already satisfied: requests>=2.19.0 in /opt/conda/lib/python3.10/site-packages (from nlp) (2.31.0)\n",
      "Requirement already satisfied: tqdm>=4.27 in /opt/conda/lib/python3.10/site-packages (from nlp) (4.65.0)\n",
      "Requirement already satisfied: filelock in /opt/conda/lib/python3.10/site-packages (from nlp) (3.12.2)\n",
      "Requirement already satisfied: xxhash in /opt/conda/lib/python3.10/site-packages (from nlp) (3.2.0)\n",
      "Requirement already satisfied: charset-normalizer<4,>=2 in /opt/conda/lib/python3.10/site-packages (from requests>=2.19.0->nlp) (3.1.0)\n",
      "Requirement already satisfied: idna<4,>=2.5 in /opt/conda/lib/python3.10/site-packages (from requests>=2.19.0->nlp) (3.4)\n",
      "Requirement already satisfied: urllib3<3,>=1.21.1 in /opt/conda/lib/python3.10/site-packages (from requests>=2.19.0->nlp) (1.26.15)\n",
      "Requirement already satisfied: certifi>=2017.4.17 in /opt/conda/lib/python3.10/site-packages (from requests>=2.19.0->nlp) (2023.5.7)\n",
      "Requirement already satisfied: python-dateutil>=2.8.1 in /opt/conda/lib/python3.10/site-packages (from pandas->nlp) (2.8.2)\n",
      "Requirement already satisfied: pytz>=2020.1 in /opt/conda/lib/python3.10/site-packages (from pandas->nlp) (2023.3)\n",
      "Requirement already satisfied: six>=1.5 in /opt/conda/lib/python3.10/site-packages (from python-dateutil>=2.8.1->pandas->nlp) (1.16.0)\n"
     ]
    }
   ],
   "source": [
    "!pip install nlp"
   ]
  },
  {
   "cell_type": "code",
   "execution_count": 2,
   "metadata": {
    "execution": {
     "iopub.execute_input": "2023-08-16T09:06:44.444133Z",
     "iopub.status.busy": "2023-08-16T09:06:44.443791Z",
     "iopub.status.idle": "2023-08-16T09:06:58.601646Z",
     "shell.execute_reply": "2023-08-16T09:06:58.600603Z",
     "shell.execute_reply.started": "2023-08-16T09:06:44.444101Z"
    }
   },
   "outputs": [
    {
     "name": "stderr",
     "output_type": "stream",
     "text": [
      "/opt/conda/lib/python3.10/site-packages/scipy/__init__.py:146: UserWarning: A NumPy version >=1.16.5 and <1.23.0 is required for this version of SciPy (detected version 1.23.5\n",
      "  warnings.warn(f\"A NumPy version >={np_minversion} and <{np_maxversion}\"\n",
      "/opt/conda/lib/python3.10/site-packages/tensorflow_io/python/ops/__init__.py:98: UserWarning: unable to load libtensorflow_io_plugins.so: unable to open file: libtensorflow_io_plugins.so, from paths: ['/opt/conda/lib/python3.10/site-packages/tensorflow_io/python/ops/libtensorflow_io_plugins.so']\n",
      "caused by: ['/opt/conda/lib/python3.10/site-packages/tensorflow_io/python/ops/libtensorflow_io_plugins.so: undefined symbol: _ZN3tsl6StatusC1EN10tensorflow5error4CodeESt17basic_string_viewIcSt11char_traitsIcEENS_14SourceLocationE']\n",
      "  warnings.warn(f\"unable to load libtensorflow_io_plugins.so: {e}\")\n",
      "/opt/conda/lib/python3.10/site-packages/tensorflow_io/python/ops/__init__.py:104: UserWarning: file system plugins are not loaded: unable to open file: libtensorflow_io.so, from paths: ['/opt/conda/lib/python3.10/site-packages/tensorflow_io/python/ops/libtensorflow_io.so']\n",
      "caused by: ['/opt/conda/lib/python3.10/site-packages/tensorflow_io/python/ops/libtensorflow_io.so: undefined symbol: _ZTVN10tensorflow13GcsFileSystemE']\n",
      "  warnings.warn(f\"file system plugins are not loaded: {e}\")\n"
     ]
    }
   ],
   "source": [
    "from transformers import  EncoderDecoderModel,AutoTokenizer\n",
    "model = EncoderDecoderModel.from_pretrained(\"/kaggle/working/roberta2robertaxlm67k50n147meet\")\n",
    "tokenizer =  AutoTokenizer.from_pretrained(\"urduhack/roberta-urdu-small\")"
   ]
  },
  {
   "cell_type": "code",
   "execution_count": 3,
   "metadata": {
    "execution": {
     "iopub.execute_input": "2023-08-16T09:06:58.603918Z",
     "iopub.status.busy": "2023-08-16T09:06:58.603509Z",
     "iopub.status.idle": "2023-08-16T09:06:58.609885Z",
     "shell.execute_reply": "2023-08-16T09:06:58.607712Z",
     "shell.execute_reply.started": "2023-08-16T09:06:58.603887Z"
    }
   },
   "outputs": [],
   "source": [
    "import pandas as pd"
   ]
  },
  {
   "cell_type": "code",
   "execution_count": 4,
   "metadata": {
    "execution": {
     "iopub.execute_input": "2023-08-16T09:07:16.166993Z",
     "iopub.status.busy": "2023-08-16T09:07:16.166614Z",
     "iopub.status.idle": "2023-08-16T09:07:16.280080Z",
     "shell.execute_reply": "2023-08-16T09:07:16.279025Z",
     "shell.execute_reply.started": "2023-08-16T09:07:16.166963Z"
    }
   },
   "outputs": [],
   "source": [
    "dataset_file1 = '/kaggle/input/60meetings/urdu_train.csv'\n",
    "dataset_file2 = '/kaggle/input/60meetings/urdu_val.csv'\n",
    "dataset1 = pd.read_csv(dataset_file1)\n",
    "dataset2 = pd.read_csv(dataset_file2)"
   ]
  },
  {
   "cell_type": "code",
   "execution_count": null,
   "metadata": {},
   "outputs": [],
   "source": [
    "# dataset1=dataset1[:30000]\n",
    "# dataset2=dataset2[:1000]"
   ]
  },
  {
   "cell_type": "code",
   "execution_count": 5,
   "metadata": {
    "execution": {
     "iopub.execute_input": "2023-08-16T09:07:19.987230Z",
     "iopub.status.busy": "2023-08-16T09:07:19.986839Z",
     "iopub.status.idle": "2023-08-16T09:07:20.224299Z",
     "shell.execute_reply": "2023-08-16T09:07:20.223301Z",
     "shell.execute_reply.started": "2023-08-16T09:07:19.987195Z"
    }
   },
   "outputs": [],
   "source": [
    "from datasets import load_dataset,concatenate_datasets,Dataset"
   ]
  },
  {
   "cell_type": "code",
   "execution_count": 6,
   "metadata": {
    "execution": {
     "iopub.execute_input": "2023-08-16T09:07:21.774274Z",
     "iopub.status.busy": "2023-08-16T09:07:21.773494Z",
     "iopub.status.idle": "2023-08-16T09:07:21.810582Z",
     "shell.execute_reply": "2023-08-16T09:07:21.809509Z",
     "shell.execute_reply.started": "2023-08-16T09:07:21.774236Z"
    }
   },
   "outputs": [
    {
     "data": {
      "text/plain": [
       "Dataset({\n",
       "    features: ['article', 'highlights'],\n",
       "    num_rows: 50\n",
       "})"
      ]
     },
     "execution_count": 6,
     "metadata": {},
     "output_type": "execute_result"
    }
   ],
   "source": [
    "train_dataset = pd.DataFrame()\n",
    "train_dataset['article'] =dataset1['text']\n",
    "train_dataset['highlights'] =dataset1['summary']\n",
    "train_dataset = Dataset.from_pandas(train_dataset)\n",
    "train_dataset"
   ]
  },
  {
   "cell_type": "code",
   "execution_count": 7,
   "metadata": {
    "execution": {
     "iopub.execute_input": "2023-08-16T09:07:26.151341Z",
     "iopub.status.busy": "2023-08-16T09:07:26.150960Z",
     "iopub.status.idle": "2023-08-16T09:07:26.172364Z",
     "shell.execute_reply": "2023-08-16T09:07:26.171188Z",
     "shell.execute_reply.started": "2023-08-16T09:07:26.151308Z"
    }
   },
   "outputs": [
    {
     "data": {
      "text/plain": [
       "Dataset({\n",
       "    features: ['article', 'highlights'],\n",
       "    num_rows: 10\n",
       "})"
      ]
     },
     "execution_count": 7,
     "metadata": {},
     "output_type": "execute_result"
    }
   ],
   "source": [
    "val_dataset = pd.DataFrame()\n",
    "\n",
    "val_dataset['article'] ='Text :'+dataset2['text']\n",
    "val_dataset['highlights'] ='Summary :'+dataset2['summary']\n",
    "val_dataset = Dataset.from_pandas(val_dataset)\n",
    "val_dataset"
   ]
  },
  {
   "cell_type": "code",
   "execution_count": 8,
   "metadata": {
    "execution": {
     "iopub.execute_input": "2023-08-16T09:07:27.387131Z",
     "iopub.status.busy": "2023-08-16T09:07:27.386553Z",
     "iopub.status.idle": "2023-08-16T09:07:27.418582Z",
     "shell.execute_reply": "2023-08-16T09:07:27.417625Z",
     "shell.execute_reply.started": "2023-08-16T09:07:27.387098Z"
    }
   },
   "outputs": [],
   "source": [
    "import nlp"
   ]
  },
  {
   "cell_type": "code",
   "execution_count": 9,
   "metadata": {
    "execution": {
     "iopub.execute_input": "2023-08-16T09:07:29.542065Z",
     "iopub.status.busy": "2023-08-16T09:07:29.541698Z",
     "iopub.status.idle": "2023-08-16T09:07:40.638504Z",
     "shell.execute_reply": "2023-08-16T09:07:40.637245Z",
     "shell.execute_reply.started": "2023-08-16T09:07:29.542034Z"
    }
   },
   "outputs": [
    {
     "name": "stdout",
     "output_type": "stream",
     "text": [
      "Requirement already satisfied: rouge_score in /opt/conda/lib/python3.10/site-packages (0.1.2)\n",
      "Requirement already satisfied: absl-py in /opt/conda/lib/python3.10/site-packages (from rouge_score) (1.4.0)\n",
      "Requirement already satisfied: nltk in /opt/conda/lib/python3.10/site-packages (from rouge_score) (3.2.4)\n",
      "Requirement already satisfied: numpy in /opt/conda/lib/python3.10/site-packages (from rouge_score) (1.23.5)\n",
      "Requirement already satisfied: six>=1.14.0 in /opt/conda/lib/python3.10/site-packages (from rouge_score) (1.16.0)\n"
     ]
    }
   ],
   "source": [
    "!pip install rouge_score rouge_score"
   ]
  },
  {
   "cell_type": "code",
   "execution_count": 10,
   "metadata": {
    "execution": {
     "iopub.execute_input": "2023-08-16T09:07:40.642090Z",
     "iopub.status.busy": "2023-08-16T09:07:40.641688Z",
     "iopub.status.idle": "2023-08-16T09:07:41.416650Z",
     "shell.execute_reply": "2023-08-16T09:07:41.415525Z",
     "shell.execute_reply.started": "2023-08-16T09:07:40.642051Z"
    }
   },
   "outputs": [],
   "source": [
    "# load rouge for validation\n",
    "rouge = nlp.load_metric(\"rouge\", experiment_id=0)\n",
    "\n",
    "# set decoding params\n",
    "model.config.decoder_start_token_id = tokenizer.bos_token_id\n",
    "model.config.eos_token_id = tokenizer.eos_token_id\n",
    "model.config.max_length = 142\n",
    "model.config.min_length = 56\n",
    "model.config.no_repeat_ngram_size = 3\n",
    "model.early_stopping = True\n",
    "model.length_penalty = 2.0\n",
    "model.num_beams = 4\n",
    "\n",
    "encoder_length = 512\n",
    "decoder_length = 512\n",
    "batch_size = 1\n"
   ]
  },
  {
   "cell_type": "code",
   "execution_count": 11,
   "metadata": {
    "execution": {
     "iopub.execute_input": "2023-08-16T09:07:41.418615Z",
     "iopub.status.busy": "2023-08-16T09:07:41.418210Z",
     "iopub.status.idle": "2023-08-16T09:07:41.430829Z",
     "shell.execute_reply": "2023-08-16T09:07:41.428352Z",
     "shell.execute_reply.started": "2023-08-16T09:07:41.418584Z"
    }
   },
   "outputs": [],
   "source": [
    "\n",
    "# map data correctly\n",
    "def map_to_encoder_decoder_inputs(batch):\n",
    "    # Tokenizer will automatically set [BOS] <text> [EOS]\n",
    "    # cut off at Longformer at 2048\n",
    "    inputs = tokenizer(batch[\"article\"], padding=\"max_length\", truncation=True, max_length=encoder_length)\n",
    "    # force summarization <= 256\n",
    "    outputs = tokenizer(batch[\"highlights\"], padding=\"max_length\", truncation=True, max_length=decoder_length)\n",
    "\n",
    "    batch[\"input_ids\"] = inputs.input_ids\n",
    "    batch[\"attention_mask\"] = inputs.attention_mask\n",
    "    batch[\"decoder_input_ids\"] = outputs.input_ids\n",
    "    batch[\"labels\"] = outputs.input_ids.copy()\n",
    "    # mask loss for padding\n",
    "    batch[\"labels\"] = [\n",
    "        [-100 if token == tokenizer.pad_token_id else token for token in labels] for labels in batch[\"labels\"]\n",
    "    ]\n",
    "    batch[\"decoder_attention_mask\"] = outputs.attention_mask\n",
    "\n",
    "    assert all([len(x) == encoder_length for x in inputs.input_ids])\n",
    "    assert all([len(x) == decoder_length for x in outputs.input_ids])\n",
    "\n",
    "    return batch\n",
    "\n",
    "\n",
    "def compute_metrics(pred):\n",
    "    labels_ids = pred.label_ids\n",
    "    pred_ids = pred.predictions\n",
    "\n",
    "    # all unnecessary tokens are removed\n",
    "    pred_str = tokenizer.batch_decode(pred_ids, skip_special_tokens=True)\n",
    "    labels_ids[labels_ids == -100] = tokenizer.eos_token_id\n",
    "    label_str = tokenizer.batch_decode(labels_ids, skip_special_tokens=True)\n",
    "\n",
    "    rouge_output = rouge.compute(predictions=pred_str, references=label_str, rouge_types=[\"rouge2\"])[\"rouge2\"].mid\n",
    "\n",
    "    return {\n",
    "        \"rouge2_precision\": round(rouge_output.precision, 4),\n",
    "        \"rouge2_recall\": round(rouge_output.recall, 4),\n",
    "        \"rouge2_fmeasure\": round(rouge_output.fmeasure, 4),\n",
    "    }\n",
    "\n"
   ]
  },
  {
   "cell_type": "code",
   "execution_count": 12,
   "metadata": {
    "execution": {
     "iopub.execute_input": "2023-08-16T09:07:53.139329Z",
     "iopub.status.busy": "2023-08-16T09:07:53.138953Z",
     "iopub.status.idle": "2023-08-16T09:07:55.291413Z",
     "shell.execute_reply": "2023-08-16T09:07:55.290386Z",
     "shell.execute_reply.started": "2023-08-16T09:07:53.139296Z"
    }
   },
   "outputs": [
    {
     "data": {
      "application/vnd.jupyter.widget-view+json": {
       "model_id": "0e054dd4aa9745f88c83366d9f89506f",
       "version_major": 2,
       "version_minor": 0
      },
      "text/plain": [
       "  0%|          | 0/50 [00:00<?, ?ba/s]"
      ]
     },
     "metadata": {},
     "output_type": "display_data"
    },
    {
     "data": {
      "application/vnd.jupyter.widget-view+json": {
       "model_id": "3613cd53e546451894fd459deb973478",
       "version_major": 2,
       "version_minor": 0
      },
      "text/plain": [
       "  0%|          | 0/10 [00:00<?, ?ba/s]"
      ]
     },
     "metadata": {},
     "output_type": "display_data"
    }
   ],
   "source": [
    "# make train dataset ready\n",
    "train_dataset = train_dataset.map(\n",
    "    map_to_encoder_decoder_inputs, batched=True, batch_size=batch_size, remove_columns=[\"article\", \"highlights\"],\n",
    ")\n",
    "train_dataset.set_format(\n",
    "    type=\"torch\", columns=[\"input_ids\", \"attention_mask\", \"decoder_attention_mask\", \"decoder_input_ids\", \"labels\"],\n",
    ")\n",
    "\n",
    "# same for validation dataset\n",
    "val_dataset = val_dataset.map(\n",
    "    map_to_encoder_decoder_inputs, batched=True, batch_size=batch_size, remove_columns=[\"article\", \"highlights\"],\n",
    ")\n",
    "val_dataset.set_format(\n",
    "    type=\"torch\", columns=[\"input_ids\", \"decoder_attention_mask\", \"attention_mask\", \"decoder_input_ids\", \"labels\"],\n",
    ")"
   ]
  },
  {
   "cell_type": "code",
   "execution_count": 13,
   "metadata": {
    "execution": {
     "iopub.execute_input": "2023-08-16T09:07:57.267163Z",
     "iopub.status.busy": "2023-08-16T09:07:57.266795Z",
     "iopub.status.idle": "2023-08-16T09:07:57.309818Z",
     "shell.execute_reply": "2023-08-16T09:07:57.308905Z",
     "shell.execute_reply.started": "2023-08-16T09:07:57.267132Z"
    }
   },
   "outputs": [],
   "source": [
    "from transformers import TrainingArguments, Trainer,EncoderDecoderModel,AutoTokenizer"
   ]
  },
  {
   "cell_type": "code",
   "execution_count": 14,
   "metadata": {
    "execution": {
     "iopub.execute_input": "2023-08-16T09:08:05.626071Z",
     "iopub.status.busy": "2023-08-16T09:08:05.625383Z",
     "iopub.status.idle": "2023-08-16T09:08:08.673770Z",
     "shell.execute_reply": "2023-08-16T09:08:08.672781Z",
     "shell.execute_reply.started": "2023-08-16T09:08:05.626038Z"
    }
   },
   "outputs": [],
   "source": [
    "\n",
    "# set training arguments - these params are not really tuned, feel free to change\n",
    "training_args = TrainingArguments(\n",
    "    output_dir=\"./\",\n",
    "    per_device_train_batch_size=1,\n",
    "    per_device_eval_batch_size=1,\n",
    "    do_train=True,\n",
    "    do_eval=False,\n",
    "    logging_steps=1000,\n",
    "    save_steps=1000,\n",
    "    eval_steps=1000,\n",
    "    overwrite_output_dir=True,\n",
    "    warmup_steps=2000,\n",
    "    save_total_limit=3,\n",
    "    fp16=True,\n",
    "    num_train_epochs=10,\n",
    ")\n",
    "\n",
    "# instantiate trainer\n",
    "trainer = Trainer(\n",
    "    model=model,\n",
    "    args=training_args,\n",
    "    compute_metrics=compute_metrics,\n",
    "    train_dataset=train_dataset,\n",
    "    eval_dataset=val_dataset,\n",
    ")"
   ]
  },
  {
   "cell_type": "code",
   "execution_count": 15,
   "metadata": {
    "execution": {
     "iopub.execute_input": "2023-08-16T09:08:11.549078Z",
     "iopub.status.busy": "2023-08-16T09:08:11.548707Z",
     "iopub.status.idle": "2023-08-16T09:11:42.926359Z",
     "shell.execute_reply": "2023-08-16T09:11:42.925420Z",
     "shell.execute_reply.started": "2023-08-16T09:08:11.549046Z"
    }
   },
   "outputs": [
    {
     "name": "stderr",
     "output_type": "stream",
     "text": [
      "/opt/conda/lib/python3.10/site-packages/transformers/optimization.py:411: FutureWarning: This implementation of AdamW is deprecated and will be removed in a future version. Use the PyTorch implementation torch.optim.AdamW instead, or set `no_deprecation_warning=True` to disable this warning\n",
      "  warnings.warn(\n",
      "\u001b[34m\u001b[1mwandb\u001b[0m: Currently logged in as: \u001b[33mmahmd220339\u001b[0m. Use \u001b[1m`wandb login --relogin`\u001b[0m to force relogin\n"
     ]
    },
    {
     "data": {
      "text/html": [
       "wandb version 0.15.8 is available!  To upgrade, please run:\n",
       " $ pip install wandb --upgrade"
      ],
      "text/plain": [
       "<IPython.core.display.HTML object>"
      ]
     },
     "metadata": {},
     "output_type": "display_data"
    },
    {
     "data": {
      "text/html": [
       "Tracking run with wandb version 0.15.5"
      ],
      "text/plain": [
       "<IPython.core.display.HTML object>"
      ]
     },
     "metadata": {},
     "output_type": "display_data"
    },
    {
     "data": {
      "text/html": [
       "Run data is saved locally in <code>/kaggle/working/wandb/run-20230816_090815-5o2d76gm</code>"
      ],
      "text/plain": [
       "<IPython.core.display.HTML object>"
      ]
     },
     "metadata": {},
     "output_type": "display_data"
    },
    {
     "data": {
      "text/html": [
       "Syncing run <strong><a href='https://wandb.ai/mahmd220339/huggingface/runs/5o2d76gm' target=\"_blank\">pleasant-brook-23</a></strong> to <a href='https://wandb.ai/mahmd220339/huggingface' target=\"_blank\">Weights & Biases</a> (<a href='https://wandb.me/run' target=\"_blank\">docs</a>)<br/>"
      ],
      "text/plain": [
       "<IPython.core.display.HTML object>"
      ]
     },
     "metadata": {},
     "output_type": "display_data"
    },
    {
     "data": {
      "text/html": [
       " View project at <a href='https://wandb.ai/mahmd220339/huggingface' target=\"_blank\">https://wandb.ai/mahmd220339/huggingface</a>"
      ],
      "text/plain": [
       "<IPython.core.display.HTML object>"
      ]
     },
     "metadata": {},
     "output_type": "display_data"
    },
    {
     "data": {
      "text/html": [
       " View run at <a href='https://wandb.ai/mahmd220339/huggingface/runs/5o2d76gm' target=\"_blank\">https://wandb.ai/mahmd220339/huggingface/runs/5o2d76gm</a>"
      ],
      "text/plain": [
       "<IPython.core.display.HTML object>"
      ]
     },
     "metadata": {},
     "output_type": "display_data"
    },
    {
     "name": "stderr",
     "output_type": "stream",
     "text": [
      "/opt/conda/lib/python3.10/site-packages/transformers/models/encoder_decoder/modeling_encoder_decoder.py:642: FutureWarning: Version v4.12.0 introduces a better way to train encoder-decoder models by computing the loss inside the encoder-decoder framework rather than in the decoder itself. You may observe training discrepancies if fine-tuning a model trained with versions anterior to 4.12.0. The decoder_input_ids are now created based on the labels, no need to pass them yourself anymore.\n",
      "  warnings.warn(DEPRECATION_WARNING, FutureWarning)\n",
      "/opt/conda/lib/python3.10/site-packages/torch/nn/parallel/_functions.py:68: UserWarning: Was asked to gather along dimension 0, but all input tensors were scalars; will instead unsqueeze and return a vector.\n",
      "  warnings.warn('Was asked to gather along dimension 0, but all '\n"
     ]
    },
    {
     "data": {
      "text/html": [
       "\n",
       "    <div>\n",
       "      \n",
       "      <progress value='250' max='250' style='width:300px; height:20px; vertical-align: middle;'></progress>\n",
       "      [250/250 02:48, Epoch 10/10]\n",
       "    </div>\n",
       "    <table border=\"1\" class=\"dataframe\">\n",
       "  <thead>\n",
       " <tr style=\"text-align: left;\">\n",
       "      <th>Step</th>\n",
       "      <th>Training Loss</th>\n",
       "    </tr>\n",
       "  </thead>\n",
       "  <tbody>\n",
       "  </tbody>\n",
       "</table><p>"
      ],
      "text/plain": [
       "<IPython.core.display.HTML object>"
      ]
     },
     "metadata": {},
     "output_type": "display_data"
    },
    {
     "data": {
      "text/plain": [
       "TrainOutput(global_step=250, training_loss=0.13683909606933595, metrics={'train_runtime': 210.9947, 'train_samples_per_second': 2.37, 'train_steps_per_second': 1.185, 'total_flos': 306760040448000.0, 'train_loss': 0.13683909606933595, 'epoch': 10.0})"
      ]
     },
     "execution_count": 15,
     "metadata": {},
     "output_type": "execute_result"
    }
   ],
   "source": [
    "# start training\n",
    "trainer.train()"
   ]
  },
  {
   "cell_type": "code",
   "execution_count": 16,
   "metadata": {
    "execution": {
     "iopub.execute_input": "2023-08-16T09:11:47.221924Z",
     "iopub.status.busy": "2023-08-16T09:11:47.221156Z",
     "iopub.status.idle": "2023-08-16T09:11:49.258308Z",
     "shell.execute_reply": "2023-08-16T09:11:49.254063Z",
     "shell.execute_reply.started": "2023-08-16T09:11:47.221888Z"
    }
   },
   "outputs": [],
   "source": [
    "trainer.save_model(\"roberta2robertaxlm67k50n147meet60meet\")"
   ]
  },
  {
   "cell_type": "code",
   "execution_count": 17,
   "metadata": {
    "execution": {
     "iopub.execute_input": "2023-08-16T09:12:21.985658Z",
     "iopub.status.busy": "2023-08-16T09:12:21.985254Z",
     "iopub.status.idle": "2023-08-16T09:13:27.018648Z",
     "shell.execute_reply": "2023-08-16T09:13:27.017556Z",
     "shell.execute_reply.started": "2023-08-16T09:12:21.985623Z"
    }
   },
   "outputs": [
    {
     "data": {
      "text/plain": [
       "'/kaggle/working/UrduHackroberta67k50n147s60m.zip'"
      ]
     },
     "execution_count": 17,
     "metadata": {},
     "output_type": "execute_result"
    }
   ],
   "source": [
    "import shutil\n",
    "shutil.make_archive('UrduHackroberta67k50n147s60m', 'zip', '/kaggle/working/roberta2robertaxlm67k50n147meet60meet')"
   ]
  },
  {
   "cell_type": "code",
   "execution_count": null,
   "metadata": {},
   "outputs": [],
   "source": [
    "# from transformers import EncoderDecoderModel, AutoTokenizer"
   ]
  },
  {
   "cell_type": "code",
   "execution_count": null,
   "metadata": {},
   "outputs": [],
   "source": [
    "# model_ckpt = \"xlm-roberta-base\"\n",
    "# tokenizer = AutoTokenizer.from_pretrained(model_ckpt)\n",
    "# model = EncoderDecoderModel.from_pretrained(\"/kaggle/working/roberta2robertaxlm\")"
   ]
  },
  {
   "cell_type": "code",
   "execution_count": null,
   "metadata": {},
   "outputs": [],
   "source": [
    "# dataset_test=pd.read_csv('/kaggle/input/xlsum-csv/urdu_test.csv')\n",
    "# prompt=dataset_test['Question'][10]\n",
    "# print(prompt)"
   ]
  },
  {
   "cell_type": "code",
   "execution_count": null,
   "metadata": {},
   "outputs": [],
   "source": [
    "# inputs = tokenizer(prompt, padding=\"max_length\", truncation=True, max_length=512, return_tensors=\"pt\")"
   ]
  },
  {
   "cell_type": "code",
   "execution_count": null,
   "metadata": {},
   "outputs": [],
   "source": [
    "# outputs = model.generate(inputs.input_ids, attention_mask=inputs.attention_mask)"
   ]
  },
  {
   "cell_type": "code",
   "execution_count": null,
   "metadata": {},
   "outputs": [],
   "source": [
    "# output_str = tokenizer.batch_decode(outputs, skip_special_tokens=True)"
   ]
  },
  {
   "cell_type": "code",
   "execution_count": null,
   "metadata": {},
   "outputs": [],
   "source": [
    "# output_str"
   ]
  },
  {
   "cell_type": "markdown",
   "metadata": {},
   "source": [
    "# For Zero shot"
   ]
  },
  {
   "cell_type": "code",
   "execution_count": null,
   "metadata": {},
   "outputs": [],
   "source": [
    "# from transformers import   EncoderDecoderModel,AutoTokenizer\n",
    "# model = EncoderDecoderModel.from_pretrained(\"patrickvonplaten/roberta2roberta-cnn_dailymail-fp16\")\n",
    "# # tokenizer = RobertaTokenizer.from_pretrained(\"roberta-base\")\n",
    "# tokenizer = AutoTokenizer.from_pretrained(\"urduhack/roberta-urdu-small\")"
   ]
  },
  {
   "cell_type": "code",
   "execution_count": null,
   "metadata": {},
   "outputs": [],
   "source": [
    "from transformers import   EncoderDecoderModel,AutoTokenizer\n",
    "model = EncoderDecoderModel.from_pretrained(\"/kaggle/working/urduHack67k50n/roberta67k50n\").to('cuda:0').half()\n",
    "tokenizer =  AutoTokenizer.from_pretrained(\"urduhack/roberta-urdu-small\")"
   ]
  },
  {
   "cell_type": "code",
   "execution_count": null,
   "metadata": {},
   "outputs": [],
   "source": [
    "import pandas as pd"
   ]
  },
  {
   "cell_type": "code",
   "execution_count": null,
   "metadata": {},
   "outputs": [],
   "source": [
    "dataset_test=pd.read_csv('/kaggle/input/meetings1-10/meeting1.csv')\n",
    "prompt=dataset_test['subpart'][0]\n",
    "print(prompt)"
   ]
  },
  {
   "cell_type": "code",
   "execution_count": null,
   "metadata": {},
   "outputs": [],
   "source": [
    "inputs = tokenizer(prompt, padding=\"max_length\", truncation=True, max_length=512, return_tensors=\"pt\")"
   ]
  },
  {
   "cell_type": "code",
   "execution_count": null,
   "metadata": {},
   "outputs": [],
   "source": [
    "input_ids = inputs.input_ids.to('cuda:0')\n",
    "attention_mask = inputs.attention_mask.to('cuda:0')"
   ]
  },
  {
   "cell_type": "code",
   "execution_count": null,
   "metadata": {},
   "outputs": [],
   "source": [
    "outputs = model.generate(input_ids, attention_mask=attention_mask,max_length=512)"
   ]
  },
  {
   "cell_type": "code",
   "execution_count": null,
   "metadata": {},
   "outputs": [],
   "source": [
    "output_str = tokenizer.batch_decode(outputs, skip_special_tokens=True)"
   ]
  },
  {
   "cell_type": "code",
   "execution_count": null,
   "metadata": {},
   "outputs": [],
   "source": [
    "output_str"
   ]
  },
  {
   "cell_type": "code",
   "execution_count": null,
   "metadata": {},
   "outputs": [],
   "source": [
    "crows_pairs=pd.read_csv('/kaggle/input/xlsum-csv/urdu_test.csv')"
   ]
  },
  {
   "cell_type": "code",
   "execution_count": null,
   "metadata": {},
   "outputs": [],
   "source": [
    "csv_file_path = '/kaggle/input/testsamples/sample1.csv'\n",
    "df = pd.read_csv(csv_file_path)\n",
    "for n in range(1751,3000):\n",
    "    data=crows_pairs['Question'][n]\n",
    "    inputs = tokenizer(data, padding=\"max_length\", truncation=True, max_length=512, return_tensors=\"pt\")\n",
    "    input_ids = inputs.input_ids.to('cuda:0')\n",
    "    attention_mask = inputs.attention_mask.to('cuda:0')\n",
    "    outputs = model.generate(input_ids, attention_mask=attention_mask,max_length=512)\n",
    "    output_str = tokenizer.batch_decode(outputs, skip_special_tokens=True)\n",
    "#     print(output_str)\n",
    "#     while len(result=='') == 0:\n",
    "#             time.sleep(0.1)\n",
    "    new_record_data = {\n",
    "    'Original': crows_pairs['Answer'][n],\n",
    "    'Generated': str(output_str),\n",
    "    }\n",
    "    df = df.append(new_record_data, ignore_index=True)\n",
    "    output_csv_file_path = '/kaggle/working/Roberta67k50nNews8500From1751to2999.csv'\n",
    "    df.to_csv(output_csv_file_path, index=False)\n",
    "    print(n)"
   ]
  },
  {
   "cell_type": "code",
   "execution_count": null,
   "metadata": {},
   "outputs": [],
   "source": [
    "originalmeet=pd.read_csv('/kaggle/input/10meetings/test_data_10meetings.csv')"
   ]
  },
  {
   "cell_type": "code",
   "execution_count": null,
   "metadata": {},
   "outputs": [],
   "source": [
    "csv_file_path = '/kaggle/input/testsamples/sample1.csv'\n",
    "df = pd.read_csv(csv_file_path)\n",
    "for m in range (1,11):\n",
    "    filename='/kaggle/input/meetings1-10/meeting'+str(m)+'.csv'\n",
    "    summary=''\n",
    "    dataset_test=pd.read_csv(filename)\n",
    "    for n in range(dataset_test.shape[0]):\n",
    "        text=dataset_test['subpart'][n]\n",
    "        inputs = tokenizer(text, padding=\"max_length\", truncation=True, max_length=512, return_tensors=\"pt\")\n",
    "        input_ids = inputs.input_ids.to('cuda:0')\n",
    "        attention_mask = inputs.attention_mask.to('cuda:0')\n",
    "        outputs = model.generate(input_ids, attention_mask=attention_mask,max_length=512)\n",
    "        output_str = tokenizer.batch_decode(outputs, skip_special_tokens=True)\n",
    "        summary=summary+str(output_str)\n",
    "        print(output_str)\n",
    "    original=originalmeet['summary'][m-1]\n",
    "    new_record_data = {\n",
    "    'Original': original,\n",
    "    'Generated': summary,\n",
    "    }\n",
    "    df = df.append(new_record_data, ignore_index=True)\n",
    "    output_csv_file_path = '/kaggle/working/OutputForRoberta67k50n10Meet.csv'\n",
    "    df.to_csv(output_csv_file_path, index=False)"
   ]
  },
  {
   "cell_type": "code",
   "execution_count": null,
   "metadata": {},
   "outputs": [],
   "source": [
    "samples=pd.read_csv('/kaggle/working/OutputForRoberta67k50n10Meet.csv')"
   ]
  },
  {
   "cell_type": "code",
   "execution_count": null,
   "metadata": {},
   "outputs": [],
   "source": [
    "samples.shape"
   ]
  },
  {
   "cell_type": "code",
   "execution_count": null,
   "metadata": {},
   "outputs": [],
   "source": [
    "!pip install rouge"
   ]
  },
  {
   "cell_type": "code",
   "execution_count": null,
   "metadata": {},
   "outputs": [],
   "source": [
    "from rouge import Rouge"
   ]
  },
  {
   "cell_type": "code",
   "execution_count": null,
   "metadata": {},
   "outputs": [],
   "source": [
    "def calc_rouge(reference,hypothesis):\n",
    "  rouge = Rouge()\n",
    "  scores = rouge.get_scores(hypothesis, reference)\n",
    "  return scores[0]['rouge-1']['f'],scores[0]['rouge-2']['f'],scores[0]['rouge-l']['f']"
   ]
  },
  {
   "cell_type": "code",
   "execution_count": null,
   "metadata": {},
   "outputs": [],
   "source": [
    "import csv,numpy as np\n",
    "with open('/kaggle/working/OutputForRoberta67k50n10Meet.csv', 'r', encoding='utf-8') as csvfile:\n",
    "    reader = csv.reader(csvfile, delimiter=',')\n",
    "    rouge_1_scores = []\n",
    "    rouge_2_scores = []\n",
    "    rouge_l_scores = []\n",
    "    rouge_lsum_scores = []\n",
    "    for row in reader:\n",
    "        original_summary = row[0]\n",
    "        generated_summary = row[1]\n",
    "        rouge_1_score,rouge_2_score,rouge_l_score = calc_rouge(original_summary, generated_summary)\n",
    "        rouge_1_scores.append(rouge_1_score)\n",
    "        rouge_2_scores.append(rouge_2_score)\n",
    "        rouge_l_scores.append(rouge_l_score)\n",
    "    print('Rouge-1 score:', np.mean(rouge_1_scores))\n",
    "    print('Rouge-2 score:', np.mean(rouge_2_scores))\n",
    "    print('Rouge-L score:', np.mean(rouge_l_scores))"
   ]
  },
  {
   "cell_type": "code",
   "execution_count": null,
   "metadata": {},
   "outputs": [],
   "source": [
    "import sys"
   ]
  },
  {
   "cell_type": "code",
   "execution_count": null,
   "metadata": {},
   "outputs": [],
   "source": [
    "sys.setrecursionlimit(25000)"
   ]
  },
  {
   "cell_type": "code",
   "execution_count": null,
   "metadata": {},
   "outputs": [],
   "source": []
  }
 ],
 "metadata": {
  "kernelspec": {
   "display_name": "Python 3 (ipykernel)",
   "language": "python",
   "name": "python3"
  },
  "language_info": {
   "codemirror_mode": {
    "name": "ipython",
    "version": 3
   },
   "file_extension": ".py",
   "mimetype": "text/x-python",
   "name": "python",
   "nbconvert_exporter": "python",
   "pygments_lexer": "ipython3",
   "version": "3.8.10"
  }
 },
 "nbformat": 4,
 "nbformat_minor": 4
}
